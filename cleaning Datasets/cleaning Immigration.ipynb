{
 "cells": [
  {
   "cell_type": "code",
   "execution_count": 1,
   "metadata": {
    "editable": true
   },
   "outputs": [],
   "source": [
    "from pyspark.sql import SparkSession\n",
    "import  pyspark.sql.functions as F\n",
    "from pyspark.sql.functions import col, split, udf\n",
    "from pyspark.sql.types import StructType as R, StructField as Fld, DoubleType as Dbl, StringType as Str, IntegerType as Int, DateType as Date\n",
    "from pyspark.sql.types import StructType as R, StructField as Fld, DoubleType as Dbl, StringType as Str, IntegerType as Int, DateType as Date\n",
    "from pyspark.sql.types import IntegerType\n",
    "from pyspark.sql.functions import desc\n"
   ]
  },
  {
   "cell_type": "code",
   "execution_count": 2,
   "metadata": {
    "editable": true
   },
   "outputs": [],
   "source": [
    "spark = SparkSession.builder.\\\n",
    "config(\"spark.jars.packages\",\"saurfang:spark-sas7bdat:2.0.0-s_2.11\")\\\n",
    ".enableHiveSupport().getOrCreate()\n",
    "df_spark =spark.read.format('com.github.saurfang.sas.spark').load('../../data/18-83510-I94-Data-2016/i94_apr16_sub.sas7bdat')\n"
   ]
  },
  {
   "cell_type": "code",
   "execution_count": 3,
   "metadata": {
    "editable": true
   },
   "outputs": [],
   "source": [
    "df_spark =spark.read.format('com.github.saurfang.sas.spark').load('../../data/18-83510-I94-Data-2016/i94_apr16_sub.sas7bdat')\n"
   ]
  },
  {
   "cell_type": "code",
   "execution_count": 3,
   "metadata": {
    "editable": true
   },
   "outputs": [],
   "source": [
    "#df_spark=spark.read.parquet(\"sas_data\")"
   ]
  },
  {
   "cell_type": "code",
   "execution_count": 4,
   "metadata": {
    "editable": true
   },
   "outputs": [
    {
     "data": {
      "text/plain": [
       "[Row(cicid=6.0, i94yr=2016.0, i94mon=4.0, i94cit=692.0, i94res=692.0, i94port='XXX', arrdate=20573.0, i94mode=None, i94addr=None, depdate=None, i94bir=37.0, i94visa=2.0, count=1.0, dtadfile=None, visapost=None, occup=None, entdepa='T', entdepd=None, entdepu='U', matflag=None, biryear=1979.0, dtaddto='10282016', gender=None, insnum=None, airline=None, admnum=1897628485.0, fltno=None, visatype='B2')]"
      ]
     },
     "execution_count": 4,
     "metadata": {},
     "output_type": "execute_result"
    }
   ],
   "source": [
    "df_spark.head(1)"
   ]
  },
  {
   "cell_type": "code",
   "execution_count": 5,
   "metadata": {
    "editable": true
   },
   "outputs": [
    {
     "data": {
      "text/plain": [
       "3096313"
      ]
     },
     "execution_count": 5,
     "metadata": {},
     "output_type": "execute_result"
    }
   ],
   "source": [
    "df_spark.count()"
   ]
  },
  {
   "cell_type": "code",
   "execution_count": 6,
   "metadata": {
    "editable": true
   },
   "outputs": [
    {
     "name": "stdout",
     "output_type": "stream",
     "text": [
      "+-------+-------+\n",
      "|i94visa|  count|\n",
      "+-------+-------+\n",
      "|    1.0| 522079|\n",
      "|    3.0|  43366|\n",
      "|    2.0|2530868|\n",
      "+-------+-------+\n",
      "\n"
     ]
    }
   ],
   "source": [
    "mode = df_spark.groupby(['i94visa']).count()\n",
    "mode.show(5)"
   ]
  },
  {
   "cell_type": "code",
   "execution_count": 7,
   "metadata": {
    "editable": true
   },
   "outputs": [
    {
     "data": {
      "text/plain": [
       "2994505"
      ]
     },
     "execution_count": 7,
     "metadata": {},
     "output_type": "execute_result"
    }
   ],
   "source": [
    "# interested only on air entry\n",
    "immigrants=df_spark.where(F.col(\"i94mode\")==1) \n",
    "immigrants.count()"
   ]
  },
  {
   "cell_type": "code",
   "execution_count": 8,
   "metadata": {
    "editable": true
   },
   "outputs": [
    {
     "name": "stdout",
     "output_type": "stream",
     "text": [
      "+-------+-------+\n",
      "|i94visa|  count|\n",
      "+-------+-------+\n",
      "|    1.0| 512862|\n",
      "|    3.0|  39495|\n",
      "|    2.0|2442148|\n",
      "+-------+-------+\n",
      "\n"
     ]
    }
   ],
   "source": [
    "immigrants.groupby(['i94visa']).count().show()"
   ]
  },
  {
   "cell_type": "code",
   "execution_count": 9,
   "metadata": {
    "editable": true
   },
   "outputs": [
    {
     "data": {
      "text/html": [
       "<div>\n",
       "<style scoped>\n",
       "    .dataframe tbody tr th:only-of-type {\n",
       "        vertical-align: middle;\n",
       "    }\n",
       "\n",
       "    .dataframe tbody tr th {\n",
       "        vertical-align: top;\n",
       "    }\n",
       "\n",
       "    .dataframe thead th {\n",
       "        text-align: right;\n",
       "    }\n",
       "</style>\n",
       "<table border=\"1\" class=\"dataframe\">\n",
       "  <thead>\n",
       "    <tr style=\"text-align: right;\">\n",
       "      <th></th>\n",
       "      <th>0</th>\n",
       "      <th>1</th>\n",
       "      <th>2</th>\n",
       "    </tr>\n",
       "  </thead>\n",
       "  <tbody>\n",
       "    <tr>\n",
       "      <th>cicid</th>\n",
       "      <td>7</td>\n",
       "      <td>15</td>\n",
       "      <td>16</td>\n",
       "    </tr>\n",
       "    <tr>\n",
       "      <th>i94yr</th>\n",
       "      <td>2016</td>\n",
       "      <td>2016</td>\n",
       "      <td>2016</td>\n",
       "    </tr>\n",
       "    <tr>\n",
       "      <th>i94mon</th>\n",
       "      <td>4</td>\n",
       "      <td>4</td>\n",
       "      <td>4</td>\n",
       "    </tr>\n",
       "    <tr>\n",
       "      <th>i94cit</th>\n",
       "      <td>254</td>\n",
       "      <td>101</td>\n",
       "      <td>101</td>\n",
       "    </tr>\n",
       "    <tr>\n",
       "      <th>i94res</th>\n",
       "      <td>276</td>\n",
       "      <td>101</td>\n",
       "      <td>101</td>\n",
       "    </tr>\n",
       "    <tr>\n",
       "      <th>i94port</th>\n",
       "      <td>ATL</td>\n",
       "      <td>WAS</td>\n",
       "      <td>NYC</td>\n",
       "    </tr>\n",
       "    <tr>\n",
       "      <th>arrdate</th>\n",
       "      <td>20551</td>\n",
       "      <td>20545</td>\n",
       "      <td>20545</td>\n",
       "    </tr>\n",
       "    <tr>\n",
       "      <th>i94mode</th>\n",
       "      <td>1</td>\n",
       "      <td>1</td>\n",
       "      <td>1</td>\n",
       "    </tr>\n",
       "    <tr>\n",
       "      <th>i94addr</th>\n",
       "      <td>AL</td>\n",
       "      <td>MI</td>\n",
       "      <td>MA</td>\n",
       "    </tr>\n",
       "    <tr>\n",
       "      <th>depdate</th>\n",
       "      <td>NaN</td>\n",
       "      <td>20691</td>\n",
       "      <td>20567</td>\n",
       "    </tr>\n",
       "    <tr>\n",
       "      <th>i94bir</th>\n",
       "      <td>25</td>\n",
       "      <td>55</td>\n",
       "      <td>28</td>\n",
       "    </tr>\n",
       "    <tr>\n",
       "      <th>i94visa</th>\n",
       "      <td>3</td>\n",
       "      <td>2</td>\n",
       "      <td>2</td>\n",
       "    </tr>\n",
       "    <tr>\n",
       "      <th>count</th>\n",
       "      <td>1</td>\n",
       "      <td>1</td>\n",
       "      <td>1</td>\n",
       "    </tr>\n",
       "    <tr>\n",
       "      <th>dtadfile</th>\n",
       "      <td>20130811</td>\n",
       "      <td>20160401</td>\n",
       "      <td>20160401</td>\n",
       "    </tr>\n",
       "    <tr>\n",
       "      <th>visapost</th>\n",
       "      <td>SEO</td>\n",
       "      <td>None</td>\n",
       "      <td>None</td>\n",
       "    </tr>\n",
       "    <tr>\n",
       "      <th>occup</th>\n",
       "      <td>None</td>\n",
       "      <td>None</td>\n",
       "      <td>None</td>\n",
       "    </tr>\n",
       "    <tr>\n",
       "      <th>entdepa</th>\n",
       "      <td>G</td>\n",
       "      <td>T</td>\n",
       "      <td>O</td>\n",
       "    </tr>\n",
       "    <tr>\n",
       "      <th>entdepd</th>\n",
       "      <td>None</td>\n",
       "      <td>O</td>\n",
       "      <td>O</td>\n",
       "    </tr>\n",
       "    <tr>\n",
       "      <th>entdepu</th>\n",
       "      <td>Y</td>\n",
       "      <td>None</td>\n",
       "      <td>None</td>\n",
       "    </tr>\n",
       "    <tr>\n",
       "      <th>matflag</th>\n",
       "      <td>None</td>\n",
       "      <td>M</td>\n",
       "      <td>M</td>\n",
       "    </tr>\n",
       "    <tr>\n",
       "      <th>biryear</th>\n",
       "      <td>1991</td>\n",
       "      <td>1961</td>\n",
       "      <td>1988</td>\n",
       "    </tr>\n",
       "    <tr>\n",
       "      <th>dtaddto</th>\n",
       "      <td>D/S</td>\n",
       "      <td>09302016</td>\n",
       "      <td>09302016</td>\n",
       "    </tr>\n",
       "    <tr>\n",
       "      <th>gender</th>\n",
       "      <td>M</td>\n",
       "      <td>M</td>\n",
       "      <td>None</td>\n",
       "    </tr>\n",
       "    <tr>\n",
       "      <th>insnum</th>\n",
       "      <td>None</td>\n",
       "      <td>None</td>\n",
       "      <td>None</td>\n",
       "    </tr>\n",
       "    <tr>\n",
       "      <th>airline</th>\n",
       "      <td>None</td>\n",
       "      <td>OS</td>\n",
       "      <td>AA</td>\n",
       "    </tr>\n",
       "    <tr>\n",
       "      <th>admnum</th>\n",
       "      <td>3.7368e+09</td>\n",
       "      <td>6.66643e+08</td>\n",
       "      <td>9.24685e+10</td>\n",
       "    </tr>\n",
       "    <tr>\n",
       "      <th>fltno</th>\n",
       "      <td>00296</td>\n",
       "      <td>93</td>\n",
       "      <td>00199</td>\n",
       "    </tr>\n",
       "    <tr>\n",
       "      <th>visatype</th>\n",
       "      <td>F1</td>\n",
       "      <td>B2</td>\n",
       "      <td>B2</td>\n",
       "    </tr>\n",
       "  </tbody>\n",
       "</table>\n",
       "</div>"
      ],
      "text/plain": [
       "                   0            1            2\n",
       "cicid              7           15           16\n",
       "i94yr           2016         2016         2016\n",
       "i94mon             4            4            4\n",
       "i94cit           254          101          101\n",
       "i94res           276          101          101\n",
       "i94port          ATL          WAS          NYC\n",
       "arrdate        20551        20545        20545\n",
       "i94mode            1            1            1\n",
       "i94addr           AL           MI           MA\n",
       "depdate          NaN        20691        20567\n",
       "i94bir            25           55           28\n",
       "i94visa            3            2            2\n",
       "count              1            1            1\n",
       "dtadfile    20130811     20160401     20160401\n",
       "visapost         SEO         None         None\n",
       "occup           None         None         None\n",
       "entdepa            G            T            O\n",
       "entdepd         None            O            O\n",
       "entdepu            Y         None         None\n",
       "matflag         None            M            M\n",
       "biryear         1991         1961         1988\n",
       "dtaddto          D/S     09302016     09302016\n",
       "gender             M            M         None\n",
       "insnum          None         None         None\n",
       "airline         None           OS           AA\n",
       "admnum    3.7368e+09  6.66643e+08  9.24685e+10\n",
       "fltno          00296           93        00199\n",
       "visatype          F1           B2           B2"
      ]
     },
     "execution_count": 9,
     "metadata": {},
     "output_type": "execute_result"
    }
   ],
   "source": [
    "immigrants.limit(3).toPandas().T"
   ]
  },
  {
   "cell_type": "code",
   "execution_count": 12,
   "metadata": {
    "editable": true
   },
   "outputs": [],
   "source": [
    "immigrants=immigrants.select(\"cicid\", \"i94yr\", \"i94mon\", \"i94cit\", \"i94res\", \"i94port\", \"arrdate\", \"i94visa\",  \"biryear\", \"gender\", \"visatype\", \"airline\")"
   ]
  },
  {
   "cell_type": "code",
   "execution_count": 13,
   "metadata": {
    "editable": true
   },
   "outputs": [
    {
     "data": {
      "text/html": [
       "<div>\n",
       "<style scoped>\n",
       "    .dataframe tbody tr th:only-of-type {\n",
       "        vertical-align: middle;\n",
       "    }\n",
       "\n",
       "    .dataframe tbody tr th {\n",
       "        vertical-align: top;\n",
       "    }\n",
       "\n",
       "    .dataframe thead th {\n",
       "        text-align: right;\n",
       "    }\n",
       "</style>\n",
       "<table border=\"1\" class=\"dataframe\">\n",
       "  <thead>\n",
       "    <tr style=\"text-align: right;\">\n",
       "      <th></th>\n",
       "      <th>0</th>\n",
       "      <th>1</th>\n",
       "      <th>2</th>\n",
       "    </tr>\n",
       "  </thead>\n",
       "  <tbody>\n",
       "    <tr>\n",
       "      <th>cicid</th>\n",
       "      <td>7</td>\n",
       "      <td>15</td>\n",
       "      <td>16</td>\n",
       "    </tr>\n",
       "    <tr>\n",
       "      <th>i94yr</th>\n",
       "      <td>2016</td>\n",
       "      <td>2016</td>\n",
       "      <td>2016</td>\n",
       "    </tr>\n",
       "    <tr>\n",
       "      <th>i94mon</th>\n",
       "      <td>4</td>\n",
       "      <td>4</td>\n",
       "      <td>4</td>\n",
       "    </tr>\n",
       "    <tr>\n",
       "      <th>i94cit</th>\n",
       "      <td>254</td>\n",
       "      <td>101</td>\n",
       "      <td>101</td>\n",
       "    </tr>\n",
       "    <tr>\n",
       "      <th>i94res</th>\n",
       "      <td>276</td>\n",
       "      <td>101</td>\n",
       "      <td>101</td>\n",
       "    </tr>\n",
       "    <tr>\n",
       "      <th>i94port</th>\n",
       "      <td>ATL</td>\n",
       "      <td>WAS</td>\n",
       "      <td>NYC</td>\n",
       "    </tr>\n",
       "    <tr>\n",
       "      <th>arrdate</th>\n",
       "      <td>20551</td>\n",
       "      <td>20545</td>\n",
       "      <td>20545</td>\n",
       "    </tr>\n",
       "    <tr>\n",
       "      <th>i94visa</th>\n",
       "      <td>3</td>\n",
       "      <td>2</td>\n",
       "      <td>2</td>\n",
       "    </tr>\n",
       "    <tr>\n",
       "      <th>biryear</th>\n",
       "      <td>1991</td>\n",
       "      <td>1961</td>\n",
       "      <td>1988</td>\n",
       "    </tr>\n",
       "    <tr>\n",
       "      <th>gender</th>\n",
       "      <td>M</td>\n",
       "      <td>M</td>\n",
       "      <td>None</td>\n",
       "    </tr>\n",
       "    <tr>\n",
       "      <th>visatype</th>\n",
       "      <td>F1</td>\n",
       "      <td>B2</td>\n",
       "      <td>B2</td>\n",
       "    </tr>\n",
       "    <tr>\n",
       "      <th>airline</th>\n",
       "      <td>None</td>\n",
       "      <td>OS</td>\n",
       "      <td>AA</td>\n",
       "    </tr>\n",
       "  </tbody>\n",
       "</table>\n",
       "</div>"
      ],
      "text/plain": [
       "              0      1      2\n",
       "cicid         7     15     16\n",
       "i94yr      2016   2016   2016\n",
       "i94mon        4      4      4\n",
       "i94cit      254    101    101\n",
       "i94res      276    101    101\n",
       "i94port     ATL    WAS    NYC\n",
       "arrdate   20551  20545  20545\n",
       "i94visa       3      2      2\n",
       "biryear    1991   1961   1988\n",
       "gender        M      M   None\n",
       "visatype     F1     B2     B2\n",
       "airline    None     OS     AA"
      ]
     },
     "execution_count": 13,
     "metadata": {},
     "output_type": "execute_result"
    }
   ],
   "source": [
    "immigrants.limit(3).toPandas().T"
   ]
  },
  {
   "cell_type": "code",
   "execution_count": 14,
   "metadata": {
    "editable": true
   },
   "outputs": [
    {
     "name": "stdout",
     "output_type": "stream",
     "text": [
      "+------+------+\n",
      "|i94cit| count|\n",
      "+------+------+\n",
      "|   135|351396|\n",
      "|   209|204462|\n",
      "|   111|182316|\n",
      "|   245|178077|\n",
      "|   582|173774|\n",
      "+------+------+\n",
      "only showing top 5 rows\n",
      "\n"
     ]
    }
   ],
   "source": [
    "mode = immigrants.groupby(['i94cit']).count()\n",
    "mode=mode.withColumn(\"i94cit\", mode[\"i94cit\"].cast(IntegerType())).orderBy(desc(\"count\"))\n",
    "mode.show(5)"
   ]
  },
  {
   "cell_type": "code",
   "execution_count": 13,
   "metadata": {
    "editable": true
   },
   "outputs": [
    {
     "name": "stdout",
     "output_type": "stream",
     "text": [
      "+---------+------+------+------+------+-------+-------+-------+-------+------+--------+-------+\n",
      "|    cicid| i94yr|i94mon|i94cit|i94res|i94port|arrdate|i94visa|biryear|gender|visatype|airline|\n",
      "+---------+------+------+------+------+-------+-------+-------+-------+------+--------+-------+\n",
      "|5748517.0|2016.0|   4.0| 245.0| 438.0|    LOS|20574.0|    1.0|   1976|     F|      B1|     QF|\n",
      "|5748518.0|2016.0|   4.0| 245.0| 438.0|    LOS|20574.0|    1.0|   1984|     F|      B1|     VA|\n",
      "|5748519.0|2016.0|   4.0| 245.0| 438.0|    LOS|20574.0|    1.0|   1987|     M|      B1|     DL|\n",
      "|5748520.0|2016.0|   4.0| 245.0| 438.0|    LOS|20574.0|    1.0|   1987|     F|      B1|     DL|\n",
      "|5748521.0|2016.0|   4.0| 245.0| 438.0|    LOS|20574.0|    1.0|   1988|     M|      B1|     DL|\n",
      "+---------+------+------+------+------+-------+-------+-------+-------+------+--------+-------+\n",
      "only showing top 5 rows\n",
      "\n"
     ]
    }
   ],
   "source": [
    "#immigrants.groupby(['i94cit']).count().orderBy(desc(\"count\")).show()\n",
    "#immigrants = immigrants.withColumn(\"i94cit\", immigrants[\"i94cit\"].cast(IntegerType()))\n",
    "#immigrants = immigrants.withColumn(\"i94res\", immigrants[\"i94res\"].cast(IntegerType()))\n",
    "#immigrants = immigrants.withColumn(\"i94visa\", immigrants[\"i94visa\"].cast(IntegerType()))\n",
    "immigrants = immigrants.withColumn(\"biryear\", immigrants[\"biryear\"].cast(IntegerType()))\n",
    "immigrants.show(5)"
   ]
  },
  {
   "cell_type": "code",
   "execution_count": 16,
   "metadata": {
    "editable": true
   },
   "outputs": [],
   "source": [
    "Schema_country = R([\n",
    "    Fld(\"id\",Str()),\n",
    "    Fld(\"country\",Str())\n",
    "    ])\n"
   ]
  },
  {
   "cell_type": "code",
   "execution_count": 17,
   "metadata": {
    "editable": true
   },
   "outputs": [],
   "source": [
    "country_dict=spark.read.csv(\n",
    "    \"country_dict.csv\", header=False, mode=\"DROPMALFORMED\",sep=\"=\", schema=Schema_country)"
   ]
  },
  {
   "cell_type": "code",
   "execution_count": 18,
   "metadata": {
    "editable": true
   },
   "outputs": [
    {
     "data": {
      "text/plain": [
       "[Row(id=' 582 ', country=\"  'MEXICO'\"),\n",
       " Row(id='   236 ', country=\"  'AFGHANISTAN'\"),\n",
       " Row(id='   101 ', country=\"  'ALBANIA'\"),\n",
       " Row(id='   316 ', country=\"  'ALGERIA'\"),\n",
       " Row(id='   102 ', country=\"  'ANDORRA'\")]"
      ]
     },
     "execution_count": 18,
     "metadata": {},
     "output_type": "execute_result"
    }
   ],
   "source": [
    "country_dict.take(5)"
   ]
  },
  {
   "cell_type": "code",
   "execution_count": 19,
   "metadata": {
    "editable": true
   },
   "outputs": [
    {
     "name": "stdout",
     "output_type": "stream",
     "text": [
      "+-------+-------------------+\n",
      "|     id|            country|\n",
      "+-------+-------------------+\n",
      "|   582 |           'MEXICO'|\n",
      "|   236 |      'AFGHANISTAN'|\n",
      "|   101 |          'ALBANIA'|\n",
      "|   316 |          'ALGERIA'|\n",
      "|   102 |          'ANDORRA'|\n",
      "|   324 |           'ANGOLA'|\n",
      "|   529 |         'ANGUILLA'|\n",
      "|   518 |  'ANTIGUA-BARBUDA'|\n",
      "|   687 |        'ARGENTINA'|\n",
      "|   151 |          'ARMENIA'|\n",
      "|   532 |            'ARUBA'|\n",
      "|   438 |        'AUSTRALIA'|\n",
      "|   103 |          'AUSTRIA'|\n",
      "|   152 |       'AZERBAIJAN'|\n",
      "|   512 |          'BAHAMAS'|\n",
      "|   298 |          'BAHRAIN'|\n",
      "|   274 |       'BANGLADESH'|\n",
      "|   513 |         'BARBADOS'|\n",
      "|   104 |          'BELGIUM'|\n",
      "|   581 |           'BELIZE'|\n",
      "+-------+-------------------+\n",
      "only showing top 20 rows\n",
      "\n"
     ]
    }
   ],
   "source": [
    "spaceDeleteUDF = udf(lambda s: s.replace(\" \", \"\"), Str())\n",
    "ampesandDeleteUDF = udf(lambda s: s.replace(\"'\", \"\"), Str())\n",
    "\n",
    "country_dict.withColumn(\"id\", spaceDeleteUDF(\"id\"))\n",
    "#country_dict.withColumn(\"id\", ampesandDeleteUDF(\"country\"))  #???\n",
    "#immigrants = immigrants.withColumn(\"i94cit\", immigrants[\"i94cit\"].cast(IntegerType()))\n",
    "\n",
    "country_dict.show()"
   ]
  },
  {
   "cell_type": "code",
   "execution_count": 20,
   "metadata": {
    "editable": true
   },
   "outputs": [
    {
     "name": "stdout",
     "output_type": "stream",
     "text": [
      "root\n",
      " |-- cicid: double (nullable = true)\n",
      " |-- i94yr: double (nullable = true)\n",
      " |-- i94mon: double (nullable = true)\n",
      " |-- i94cit: double (nullable = true)\n",
      " |-- i94res: double (nullable = true)\n",
      " |-- i94port: string (nullable = true)\n",
      " |-- arrdate: double (nullable = true)\n",
      " |-- i94visa: double (nullable = true)\n",
      " |-- biryear: double (nullable = true)\n",
      " |-- gender: string (nullable = true)\n",
      " |-- visatype: string (nullable = true)\n",
      " |-- airline: string (nullable = true)\n",
      "\n"
     ]
    }
   ],
   "source": [
    "immigrants.printSchema()"
   ]
  },
  {
   "cell_type": "code",
   "execution_count": 21,
   "metadata": {
    "editable": true
   },
   "outputs": [
    {
     "name": "stdout",
     "output_type": "stream",
     "text": [
      "+-------+------+------+------+-------+-------+-------+-------+------+--------+-------+------------+\n",
      "|  cicid| i94yr|i94mon|i94res|i94port|arrdate|i94visa|biryear|gender|visatype|airline| cit_country|\n",
      "+-------+------+------+------+-------+-------+-------+-------+------+--------+-------+------------+\n",
      "|84583.0|2016.0|   4.0| 112.0|    PHO|20545.0|    1.0| 1991.0|     F|      B1|     LH|  'MONGOLIA'|\n",
      "|84584.0|2016.0|   4.0| 299.0|    POO|20545.0|    1.0| 1983.0|  null|      B1|     KE|  'MONGOLIA'|\n",
      "|84585.0|2016.0|   4.0| 299.0|    SEA|20545.0|    1.0| 1983.0|  null|      B1|     KE|  'MONGOLIA'|\n",
      "|84586.0|2016.0|   4.0| 299.0|    SEA|20545.0|    1.0| 1983.0|  null|      B1|     KE|  'MONGOLIA'|\n",
      "|84587.0|2016.0|   4.0| 299.0|    SEA|20545.0|    3.0| 1986.0|     M|      F1|     CA|  'MONGOLIA'|\n",
      "|84588.0|2016.0|   4.0| 299.0|    SFR|20545.0|    2.0| 1993.0|  null|      B2|     KE|  'MONGOLIA'|\n",
      "|84589.0|2016.0|   4.0| 299.0|    SFR|20545.0|    2.0| 2012.0|  null|      B2|     KE|  'MONGOLIA'|\n",
      "|84590.0|2016.0|   4.0| 299.0|    SFR|20545.0|    3.0| 1997.0|     M|      F1|     DL|  'MONGOLIA'|\n",
      "|84591.0|2016.0|   4.0| 299.0|    SFR|20545.0|    3.0| 1993.0|     F|      F1|     UA|  'MONGOLIA'|\n",
      "|84592.0|2016.0|   4.0| 299.0|    SFR|20545.0|    2.0| 1984.0|     F|      B2|     UA|  'MONGOLIA'|\n",
      "|84593.0|2016.0|   4.0| 299.0|    SFR|20545.0|    2.0| 1950.0|     F|      B2|     KE|  'MONGOLIA'|\n",
      "|84594.0|2016.0|   4.0| 299.0|    SFR|20545.0|    2.0| 1954.0|     F|      B2|     KE|  'MONGOLIA'|\n",
      "|84595.0|2016.0|   4.0| 299.0|    DEN|20545.0|    2.0| 1979.0|     M|      B2|     KE|  'MONGOLIA'|\n",
      "|84596.0|2016.0|   4.0| 299.0|    SFR|20545.0|    2.0| 1982.0|     M|      B2|     KE|  'MONGOLIA'|\n",
      "|84597.0|2016.0|   4.0| 299.0|    SFR|20545.0|    2.0| 1985.0|     M|      B2|     KE|  'MONGOLIA'|\n",
      "|84598.0|2016.0|   4.0| 299.0|    LOS|20545.0|    2.0| 1989.0|     F|      B2|     KE|  'MONGOLIA'|\n",
      "|84599.0|2016.0|   4.0| 299.0|    LOS|20545.0|    2.0| 1979.0|     F|      B2|     KE|  'MONGOLIA'|\n",
      "|84600.0|2016.0|   4.0| 299.0|    POO|20545.0|    2.0| 1984.0|     F|      B2|     UA|  'MONGOLIA'|\n",
      "|84601.0|2016.0|   4.0| 299.0|    SFR|20545.0|    2.0| 1986.0|     M|      B2|     UA|  'MONGOLIA'|\n",
      "|84602.0|2016.0|   4.0| 299.0|    POO|20545.0|    2.0| 2011.0|     F|      B2|     UA|  'MONGOLIA'|\n",
      "+-------+------+------+------+-------+-------+-------+-------+------+--------+-------+------------+\n",
      "only showing top 20 rows\n",
      "\n"
     ]
    }
   ],
   "source": [
    "immigrants = immigrants.join(country_dict, immigrants.i94cit == country_dict.id,how='right') \n",
    "immigrants=immigrants.withColumnRenamed(\"country\", \"cit_country\")\n",
    "immigrants=immigrants.drop('id','i94cit')\n",
    "immigrants.show()"
   ]
  },
  {
   "cell_type": "code",
   "execution_count": 22,
   "metadata": {
    "editable": true
   },
   "outputs": [
    {
     "name": "stdout",
     "output_type": "stream",
     "text": [
      "root\n",
      " |-- cicid: double (nullable = true)\n",
      " |-- i94yr: double (nullable = true)\n",
      " |-- i94mon: double (nullable = true)\n",
      " |-- i94res: double (nullable = true)\n",
      " |-- i94port: string (nullable = true)\n",
      " |-- arrdate: double (nullable = true)\n",
      " |-- i94visa: double (nullable = true)\n",
      " |-- biryear: double (nullable = true)\n",
      " |-- gender: string (nullable = true)\n",
      " |-- visatype: string (nullable = true)\n",
      " |-- airline: string (nullable = true)\n",
      " |-- cit_country: string (nullable = true)\n",
      "\n"
     ]
    }
   ],
   "source": [
    "#immigrants=immigrants.drop('id')\n",
    "immigrants.printSchema()"
   ]
  },
  {
   "cell_type": "code",
   "execution_count": 23,
   "metadata": {
    "editable": true
   },
   "outputs": [
    {
     "data": {
      "text/plain": [
       "[Row(cicid=84583.0, i94yr=2016.0, i94mon=4.0, i94res=112.0, i94port='PHO', arrdate=20545.0, i94visa=1.0, biryear=1991.0, gender='F', visatype='B1', airline='LH', cit_country=\"  'MONGOLIA'\"),\n",
       " Row(cicid=84584.0, i94yr=2016.0, i94mon=4.0, i94res=299.0, i94port='POO', arrdate=20545.0, i94visa=1.0, biryear=1983.0, gender=None, visatype='B1', airline='KE', cit_country=\"  'MONGOLIA'\"),\n",
       " Row(cicid=84585.0, i94yr=2016.0, i94mon=4.0, i94res=299.0, i94port='SEA', arrdate=20545.0, i94visa=1.0, biryear=1983.0, gender=None, visatype='B1', airline='KE', cit_country=\"  'MONGOLIA'\")]"
      ]
     },
     "execution_count": 23,
     "metadata": {},
     "output_type": "execute_result"
    }
   ],
   "source": [
    "immigrants.take(3)"
   ]
  },
  {
   "cell_type": "code",
   "execution_count": 24,
   "metadata": {
    "editable": true
   },
   "outputs": [
    {
     "name": "stdout",
     "output_type": "stream",
     "text": [
      "+-------+------+------+-------+-------+-------+-------+------+--------+-------+------------+------------+\n",
      "|  cicid| i94yr|i94mon|i94port|arrdate|i94visa|biryear|gender|visatype|airline| cit_country| res_country|\n",
      "+-------+------+------+-------+-------+-------+-------+------+--------+-------+------------+------------+\n",
      "|84584.0|2016.0|   4.0|    POO|20545.0|    1.0| 1983.0|  null|      B1|     KE|  'MONGOLIA'|  'MONGOLIA'|\n",
      "|84585.0|2016.0|   4.0|    SEA|20545.0|    1.0| 1983.0|  null|      B1|     KE|  'MONGOLIA'|  'MONGOLIA'|\n",
      "|84586.0|2016.0|   4.0|    SEA|20545.0|    1.0| 1983.0|  null|      B1|     KE|  'MONGOLIA'|  'MONGOLIA'|\n",
      "|84587.0|2016.0|   4.0|    SEA|20545.0|    3.0| 1986.0|     M|      F1|     CA|  'MONGOLIA'|  'MONGOLIA'|\n",
      "|84588.0|2016.0|   4.0|    SFR|20545.0|    2.0| 1993.0|  null|      B2|     KE|  'MONGOLIA'|  'MONGOLIA'|\n",
      "|84589.0|2016.0|   4.0|    SFR|20545.0|    2.0| 2012.0|  null|      B2|     KE|  'MONGOLIA'|  'MONGOLIA'|\n",
      "|84590.0|2016.0|   4.0|    SFR|20545.0|    3.0| 1997.0|     M|      F1|     DL|  'MONGOLIA'|  'MONGOLIA'|\n",
      "|84591.0|2016.0|   4.0|    SFR|20545.0|    3.0| 1993.0|     F|      F1|     UA|  'MONGOLIA'|  'MONGOLIA'|\n",
      "|84592.0|2016.0|   4.0|    SFR|20545.0|    2.0| 1984.0|     F|      B2|     UA|  'MONGOLIA'|  'MONGOLIA'|\n",
      "|84593.0|2016.0|   4.0|    SFR|20545.0|    2.0| 1950.0|     F|      B2|     KE|  'MONGOLIA'|  'MONGOLIA'|\n",
      "|84594.0|2016.0|   4.0|    SFR|20545.0|    2.0| 1954.0|     F|      B2|     KE|  'MONGOLIA'|  'MONGOLIA'|\n",
      "|84595.0|2016.0|   4.0|    DEN|20545.0|    2.0| 1979.0|     M|      B2|     KE|  'MONGOLIA'|  'MONGOLIA'|\n",
      "|84596.0|2016.0|   4.0|    SFR|20545.0|    2.0| 1982.0|     M|      B2|     KE|  'MONGOLIA'|  'MONGOLIA'|\n",
      "|84597.0|2016.0|   4.0|    SFR|20545.0|    2.0| 1985.0|     M|      B2|     KE|  'MONGOLIA'|  'MONGOLIA'|\n",
      "|84598.0|2016.0|   4.0|    LOS|20545.0|    2.0| 1989.0|     F|      B2|     KE|  'MONGOLIA'|  'MONGOLIA'|\n",
      "|84599.0|2016.0|   4.0|    LOS|20545.0|    2.0| 1979.0|     F|      B2|     KE|  'MONGOLIA'|  'MONGOLIA'|\n",
      "|84600.0|2016.0|   4.0|    POO|20545.0|    2.0| 1984.0|     F|      B2|     UA|  'MONGOLIA'|  'MONGOLIA'|\n",
      "|84601.0|2016.0|   4.0|    SFR|20545.0|    2.0| 1986.0|     M|      B2|     UA|  'MONGOLIA'|  'MONGOLIA'|\n",
      "|84602.0|2016.0|   4.0|    POO|20545.0|    2.0| 2011.0|     F|      B2|     UA|  'MONGOLIA'|  'MONGOLIA'|\n",
      "|84603.0|2016.0|   4.0|    SEA|20545.0|    2.0| 1989.0|     M|      B2|     KE|  'MONGOLIA'|  'MONGOLIA'|\n",
      "+-------+------+------+-------+-------+-------+-------+------+--------+-------+------------+------------+\n",
      "only showing top 20 rows\n",
      "\n"
     ]
    }
   ],
   "source": [
    "immigrants = immigrants.join(country_dict, immigrants.i94res == country_dict.id,how='right') \n",
    "immigrants=immigrants.withColumnRenamed(\"country\", \"res_country\")\n",
    "immigrants=immigrants.drop('id','i94res')\n",
    "immigrants.show()"
   ]
  },
  {
   "cell_type": "code",
   "execution_count": 25,
   "metadata": {
    "editable": true
   },
   "outputs": [],
   "source": [
    "Schema_Visa = R([\n",
    "    Fld(\"id\",Str()),\n",
    "    Fld(\"Visa_Type\",Str())\n",
    "    ])\n",
    "visa_dict=spark.read.csv(\n",
    "    \"visa_dict.csv\", header=False, mode=\"DROPMALFORMED\",sep=\"=\", schema=Schema_Visa)"
   ]
  },
  {
   "cell_type": "code",
   "execution_count": 26,
   "metadata": {
    "editable": true
   },
   "outputs": [
    {
     "name": "stdout",
     "output_type": "stream",
     "text": [
      "+---+---------+\n",
      "| id|Visa_Type|\n",
      "+---+---------+\n",
      "| 1 | Business|\n",
      "| 2 | Pleasure|\n",
      "| 3 |  Student|\n",
      "+---+---------+\n",
      "\n"
     ]
    }
   ],
   "source": [
    "visa_dict.show(3)"
   ]
  },
  {
   "cell_type": "code",
   "execution_count": 27,
   "metadata": {
    "editable": true
   },
   "outputs": [
    {
     "name": "stdout",
     "output_type": "stream",
     "text": [
      "+-----+------+------+-------+-------+-------+------+--------+-------+-----------+-----------+---------+\n",
      "|cicid| i94yr|i94mon|i94port|arrdate|biryear|gender|visatype|airline|cit_country|res_country|Visa_Type|\n",
      "+-----+------+------+-------+-------+-------+------+--------+-------+-----------+-----------+---------+\n",
      "| 18.0|2016.0|   4.0|    NYC|20545.0| 1959.0|  null|      B1|     AZ|  'ALBANIA'|  'ALBANIA'| Business|\n",
      "| 22.0|2016.0|   4.0|    NYC|20545.0| 1968.0|  null|      B1|     AZ|  'ALBANIA'|  'ALBANIA'| Business|\n",
      "| 27.0|2016.0|   4.0|    BOS|20545.0| 1958.0|     M|      B1|     LH|  'ALBANIA'|  'ALBANIA'| Business|\n",
      "| 28.0|2016.0|   4.0|    ATL|20545.0| 1960.0|     F|      B1|     LH|  'ALBANIA'|  'ALBANIA'| Business|\n",
      "| 40.0|2016.0|   4.0|    CHI|20545.0| 1981.0|     M|      B1|     OS|  'ALBANIA'|  'ALBANIA'| Business|\n",
      "| 41.0|2016.0|   4.0|    CHI|20545.0| 1984.0|     M|      B1|     OS|  'ALBANIA'|  'ALBANIA'| Business|\n",
      "| 42.0|2016.0|   4.0|    CHI|20545.0| 1978.0|     M|      B1|     TK|  'ALBANIA'|  'ALBANIA'| Business|\n",
      "| 79.0|2016.0|   4.0|    BOS|20545.0| 1965.0|     M|      WB|     LH|  'AUSTRIA'|  'AUSTRIA'| Business|\n",
      "| 84.0|2016.0|   4.0|    BOS|20545.0| 1994.0|     M|      WB|     LH|  'AUSTRIA'|  'AUSTRIA'| Business|\n",
      "| 86.0|2016.0|   4.0|    BOS|20545.0| 1969.0|  null|      WB|     LH|  'AUSTRIA'|  'AUSTRIA'| Business|\n",
      "| 87.0|2016.0|   4.0|    BOS|20545.0| 1982.0|  null|      WB|     LH|  'AUSTRIA'|  'AUSTRIA'| Business|\n",
      "| 91.0|2016.0|   4.0|    CLT|20545.0| 1974.0|     F|      WB|     AA|  'AUSTRIA'|  'AUSTRIA'| Business|\n",
      "| 95.0|2016.0|   4.0|    DEN|20545.0| 1978.0|     F|      WB|     LH|  'AUSTRIA'|  'AUSTRIA'| Business|\n",
      "|104.0|2016.0|   4.0|    DET|20545.0| 1980.0|     M|      WB|     LH|  'AUSTRIA'|  'AUSTRIA'| Business|\n",
      "|110.0|2016.0|   4.0|    DET|20545.0| 1982.0|     F|      WB|     LH|  'AUSTRIA'|  'AUSTRIA'| Business|\n",
      "|111.0|2016.0|   4.0|    DET|20545.0| 1987.0|     M|      WB|     LH|  'AUSTRIA'|  'AUSTRIA'| Business|\n",
      "|115.0|2016.0|   4.0|    NEW|20545.0| 1948.0|     M|      WB|     LH|  'AUSTRIA'|  'AUSTRIA'| Business|\n",
      "|142.0|2016.0|   4.0|    NEW|20545.0| 1987.0|     M|      WB|     UA|  'AUSTRIA'|  'AUSTRIA'| Business|\n",
      "|169.0|2016.0|   4.0|    WAS|20545.0| 1951.0|     M|      WB|     OS|  'AUSTRIA'|  'AUSTRIA'| Business|\n",
      "|173.0|2016.0|   4.0|    WAS|20545.0| 1970.0|     M|      WB|     OS|  'AUSTRIA'|  'AUSTRIA'| Business|\n",
      "+-----+------+------+-------+-------+-------+------+--------+-------+-----------+-----------+---------+\n",
      "only showing top 20 rows\n",
      "\n"
     ]
    }
   ],
   "source": [
    "immigrants = immigrants.join(visa_dict, immigrants.i94visa == visa_dict.id,how='right') \n",
    "immigrants=immigrants.drop('id','i94visa')\n",
    "immigrants.show()"
   ]
  },
  {
   "cell_type": "code",
   "execution_count": 28,
   "metadata": {
    "editable": true
   },
   "outputs": [],
   "source": [
    "immigrants.createOrReplaceTempView(\"immigrants\")"
   ]
  },
  {
   "cell_type": "code",
   "execution_count": 29,
   "metadata": {
    "editable": true
   },
   "outputs": [],
   "source": [
    "immigrants.createOrReplaceTempView(\"immigrants\")\n",
    "immigrations = spark.sql(\"SELECT *, date_add(to_date('1960-01-01'), arrdate) AS arrival_date FROM immigrants\")\n",
    "immigrants=immigrants.drop('arrdate')"
   ]
  },
  {
   "cell_type": "code",
   "execution_count": 30,
   "metadata": {
    "editable": true
   },
   "outputs": [
    {
     "name": "stdout",
     "output_type": "stream",
     "text": [
      "+-----+------+------+-------+-------+-------+------+--------+-------+-----------+-----------+---------+------------+\n",
      "|cicid| i94yr|i94mon|i94port|arrdate|biryear|gender|visatype|airline|cit_country|res_country|Visa_Type|arrival_date|\n",
      "+-----+------+------+-------+-------+-------+------+--------+-------+-----------+-----------+---------+------------+\n",
      "| 18.0|2016.0|   4.0|    NYC|20545.0| 1959.0|  null|      B1|     AZ|  'ALBANIA'|  'ALBANIA'| Business|  2016-04-01|\n",
      "| 22.0|2016.0|   4.0|    NYC|20545.0| 1968.0|  null|      B1|     AZ|  'ALBANIA'|  'ALBANIA'| Business|  2016-04-01|\n",
      "| 27.0|2016.0|   4.0|    BOS|20545.0| 1958.0|     M|      B1|     LH|  'ALBANIA'|  'ALBANIA'| Business|  2016-04-01|\n",
      "| 28.0|2016.0|   4.0|    ATL|20545.0| 1960.0|     F|      B1|     LH|  'ALBANIA'|  'ALBANIA'| Business|  2016-04-01|\n",
      "| 40.0|2016.0|   4.0|    CHI|20545.0| 1981.0|     M|      B1|     OS|  'ALBANIA'|  'ALBANIA'| Business|  2016-04-01|\n",
      "| 41.0|2016.0|   4.0|    CHI|20545.0| 1984.0|     M|      B1|     OS|  'ALBANIA'|  'ALBANIA'| Business|  2016-04-01|\n",
      "| 42.0|2016.0|   4.0|    CHI|20545.0| 1978.0|     M|      B1|     TK|  'ALBANIA'|  'ALBANIA'| Business|  2016-04-01|\n",
      "| 79.0|2016.0|   4.0|    BOS|20545.0| 1965.0|     M|      WB|     LH|  'AUSTRIA'|  'AUSTRIA'| Business|  2016-04-01|\n",
      "| 84.0|2016.0|   4.0|    BOS|20545.0| 1994.0|     M|      WB|     LH|  'AUSTRIA'|  'AUSTRIA'| Business|  2016-04-01|\n",
      "| 86.0|2016.0|   4.0|    BOS|20545.0| 1969.0|  null|      WB|     LH|  'AUSTRIA'|  'AUSTRIA'| Business|  2016-04-01|\n",
      "| 87.0|2016.0|   4.0|    BOS|20545.0| 1982.0|  null|      WB|     LH|  'AUSTRIA'|  'AUSTRIA'| Business|  2016-04-01|\n",
      "| 91.0|2016.0|   4.0|    CLT|20545.0| 1974.0|     F|      WB|     AA|  'AUSTRIA'|  'AUSTRIA'| Business|  2016-04-01|\n",
      "| 95.0|2016.0|   4.0|    DEN|20545.0| 1978.0|     F|      WB|     LH|  'AUSTRIA'|  'AUSTRIA'| Business|  2016-04-01|\n",
      "|104.0|2016.0|   4.0|    DET|20545.0| 1980.0|     M|      WB|     LH|  'AUSTRIA'|  'AUSTRIA'| Business|  2016-04-01|\n",
      "|110.0|2016.0|   4.0|    DET|20545.0| 1982.0|     F|      WB|     LH|  'AUSTRIA'|  'AUSTRIA'| Business|  2016-04-01|\n",
      "|111.0|2016.0|   4.0|    DET|20545.0| 1987.0|     M|      WB|     LH|  'AUSTRIA'|  'AUSTRIA'| Business|  2016-04-01|\n",
      "|115.0|2016.0|   4.0|    NEW|20545.0| 1948.0|     M|      WB|     LH|  'AUSTRIA'|  'AUSTRIA'| Business|  2016-04-01|\n",
      "|142.0|2016.0|   4.0|    NEW|20545.0| 1987.0|     M|      WB|     UA|  'AUSTRIA'|  'AUSTRIA'| Business|  2016-04-01|\n",
      "|169.0|2016.0|   4.0|    WAS|20545.0| 1951.0|     M|      WB|     OS|  'AUSTRIA'|  'AUSTRIA'| Business|  2016-04-01|\n",
      "|173.0|2016.0|   4.0|    WAS|20545.0| 1970.0|     M|      WB|     OS|  'AUSTRIA'|  'AUSTRIA'| Business|  2016-04-01|\n",
      "+-----+------+------+-------+-------+-------+------+--------+-------+-----------+-----------+---------+------------+\n",
      "only showing top 20 rows\n",
      "\n"
     ]
    }
   ],
   "source": [
    "immigrations.show()"
   ]
  },
  {
   "cell_type": "code",
   "execution_count": null,
   "metadata": {
    "editable": true
   },
   "outputs": [],
   "source": [
    "date"
   ]
  }
 ],
 "metadata": {
  "kernelspec": {
   "display_name": "Python 3",
   "language": "python",
   "name": "python3"
  },
  "language_info": {
   "codemirror_mode": {
    "name": "ipython",
    "version": 3
   },
   "file_extension": ".py",
   "mimetype": "text/x-python",
   "name": "python",
   "nbconvert_exporter": "python",
   "pygments_lexer": "ipython3",
   "version": "3.6.3"
  }
 },
 "nbformat": 4,
 "nbformat_minor": 4
}
