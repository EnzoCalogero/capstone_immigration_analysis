{
 "cells": [
  {
   "cell_type": "code",
   "execution_count": 1,
   "metadata": {
    "editable": true
   },
   "outputs": [],
   "source": [
    "from pyspark.sql import SparkSession\n",
    "import  pyspark.sql.functions as F\n",
    "from pyspark.sql.functions import col, split, udf\n",
    "from pyspark.sql.types import StructType as R, StructField as Fld, DoubleType as Dbl, StringType as Str, IntegerType as Int, DateType as Date\n",
    "from pyspark.sql.types import StructType as R, StructField as Fld, DoubleType as Dbl, StringType as Str, IntegerType as Int, DateType as Date\n",
    "from pyspark.sql.types import IntegerType\n",
    "from pyspark.sql.functions import desc\n"
   ]
  },
  {
   "cell_type": "code",
   "execution_count": 2,
   "metadata": {
    "editable": true
   },
   "outputs": [],
   "source": [
    "spark = SparkSession.builder.\\\n",
    "config(\"spark.jars.packages\",\"saurfang:spark-sas7bdat:2.0.0-s_2.11\")\\\n",
    ".enableHiveSupport().getOrCreate()\n",
    "#df_spark =spark.read.format('com.github.saurfang.sas.spark').load('../../data/18-83510-I94-Data-2016/i94_apr16_sub.sas7bdat')\n"
   ]
  },
  {
   "cell_type": "code",
   "execution_count": 3,
   "metadata": {
    "editable": true
   },
   "outputs": [],
   "source": [
    "df_spark=spark.read.parquet(\"sas_data\")"
   ]
  },
  {
   "cell_type": "code",
   "execution_count": 4,
   "metadata": {
    "editable": true
   },
   "outputs": [
    {
     "data": {
      "text/plain": [
       "[Row(cicid=5748517.0, i94yr=2016.0, i94mon=4.0, i94cit=245.0, i94res=438.0, i94port='LOS', arrdate=20574.0, i94mode=1.0, i94addr='CA', depdate=20582.0, i94bir=40.0, i94visa=1.0, count=1.0, dtadfile='20160430', visapost='SYD', occup=None, entdepa='G', entdepd='O', entdepu=None, matflag='M', biryear=1976.0, dtaddto='10292016', gender='F', insnum=None, airline='QF', admnum=94953870030.0, fltno='00011', visatype='B1')]"
      ]
     },
     "execution_count": 4,
     "metadata": {},
     "output_type": "execute_result"
    }
   ],
   "source": [
    "df_spark.head(1)"
   ]
  },
  {
   "cell_type": "code",
   "execution_count": 5,
   "metadata": {
    "editable": true
   },
   "outputs": [
    {
     "data": {
      "text/plain": [
       "3096313"
      ]
     },
     "execution_count": 5,
     "metadata": {},
     "output_type": "execute_result"
    }
   ],
   "source": [
    "df_spark.count()"
   ]
  },
  {
   "cell_type": "code",
   "execution_count": 6,
   "metadata": {
    "editable": true
   },
   "outputs": [
    {
     "name": "stdout",
     "output_type": "stream",
     "text": [
      "+-------+-------+\n",
      "|i94visa|  count|\n",
      "+-------+-------+\n",
      "|    1.0| 522079|\n",
      "|    3.0|  43366|\n",
      "|    2.0|2530868|\n",
      "+-------+-------+\n",
      "\n"
     ]
    }
   ],
   "source": [
    "mode = df_spark.groupby(['i94visa']).count()\n",
    "mode.show(5)"
   ]
  },
  {
   "cell_type": "code",
   "execution_count": 7,
   "metadata": {
    "editable": true
   },
   "outputs": [
    {
     "data": {
      "text/plain": [
       "2994505"
      ]
     },
     "execution_count": 7,
     "metadata": {},
     "output_type": "execute_result"
    }
   ],
   "source": [
    "# interested only on air entry\n",
    "immigrants=df_spark.where(F.col(\"i94mode\")==1) \n",
    "immigrants.count()"
   ]
  },
  {
   "cell_type": "code",
   "execution_count": 8,
   "metadata": {
    "editable": true
   },
   "outputs": [
    {
     "name": "stdout",
     "output_type": "stream",
     "text": [
      "+-------+-------+\n",
      "|i94visa|  count|\n",
      "+-------+-------+\n",
      "|    1.0| 512862|\n",
      "|    3.0|  39495|\n",
      "|    2.0|2442148|\n",
      "+-------+-------+\n",
      "\n"
     ]
    }
   ],
   "source": [
    "immigrants.groupby(['i94visa']).count().show()"
   ]
  },
  {
   "cell_type": "code",
   "execution_count": 9,
   "metadata": {
    "editable": true
   },
   "outputs": [
    {
     "data": {
      "text/html": [
       "<div>\n",
       "<style scoped>\n",
       "    .dataframe tbody tr th:only-of-type {\n",
       "        vertical-align: middle;\n",
       "    }\n",
       "\n",
       "    .dataframe tbody tr th {\n",
       "        vertical-align: top;\n",
       "    }\n",
       "\n",
       "    .dataframe thead th {\n",
       "        text-align: right;\n",
       "    }\n",
       "</style>\n",
       "<table border=\"1\" class=\"dataframe\">\n",
       "  <thead>\n",
       "    <tr style=\"text-align: right;\">\n",
       "      <th></th>\n",
       "      <th>0</th>\n",
       "      <th>1</th>\n",
       "      <th>2</th>\n",
       "    </tr>\n",
       "  </thead>\n",
       "  <tbody>\n",
       "    <tr>\n",
       "      <th>cicid</th>\n",
       "      <td>5.74852e+06</td>\n",
       "      <td>5.74852e+06</td>\n",
       "      <td>5.74852e+06</td>\n",
       "    </tr>\n",
       "    <tr>\n",
       "      <th>i94yr</th>\n",
       "      <td>2016</td>\n",
       "      <td>2016</td>\n",
       "      <td>2016</td>\n",
       "    </tr>\n",
       "    <tr>\n",
       "      <th>i94mon</th>\n",
       "      <td>4</td>\n",
       "      <td>4</td>\n",
       "      <td>4</td>\n",
       "    </tr>\n",
       "    <tr>\n",
       "      <th>i94cit</th>\n",
       "      <td>245</td>\n",
       "      <td>245</td>\n",
       "      <td>245</td>\n",
       "    </tr>\n",
       "    <tr>\n",
       "      <th>i94res</th>\n",
       "      <td>438</td>\n",
       "      <td>438</td>\n",
       "      <td>438</td>\n",
       "    </tr>\n",
       "    <tr>\n",
       "      <th>i94port</th>\n",
       "      <td>LOS</td>\n",
       "      <td>LOS</td>\n",
       "      <td>LOS</td>\n",
       "    </tr>\n",
       "    <tr>\n",
       "      <th>arrdate</th>\n",
       "      <td>20574</td>\n",
       "      <td>20574</td>\n",
       "      <td>20574</td>\n",
       "    </tr>\n",
       "    <tr>\n",
       "      <th>i94mode</th>\n",
       "      <td>1</td>\n",
       "      <td>1</td>\n",
       "      <td>1</td>\n",
       "    </tr>\n",
       "    <tr>\n",
       "      <th>i94addr</th>\n",
       "      <td>CA</td>\n",
       "      <td>NV</td>\n",
       "      <td>WA</td>\n",
       "    </tr>\n",
       "    <tr>\n",
       "      <th>depdate</th>\n",
       "      <td>20582</td>\n",
       "      <td>20591</td>\n",
       "      <td>20582</td>\n",
       "    </tr>\n",
       "    <tr>\n",
       "      <th>i94bir</th>\n",
       "      <td>40</td>\n",
       "      <td>32</td>\n",
       "      <td>29</td>\n",
       "    </tr>\n",
       "    <tr>\n",
       "      <th>i94visa</th>\n",
       "      <td>1</td>\n",
       "      <td>1</td>\n",
       "      <td>1</td>\n",
       "    </tr>\n",
       "    <tr>\n",
       "      <th>count</th>\n",
       "      <td>1</td>\n",
       "      <td>1</td>\n",
       "      <td>1</td>\n",
       "    </tr>\n",
       "    <tr>\n",
       "      <th>dtadfile</th>\n",
       "      <td>20160430</td>\n",
       "      <td>20160430</td>\n",
       "      <td>20160430</td>\n",
       "    </tr>\n",
       "    <tr>\n",
       "      <th>visapost</th>\n",
       "      <td>SYD</td>\n",
       "      <td>SYD</td>\n",
       "      <td>SYD</td>\n",
       "    </tr>\n",
       "    <tr>\n",
       "      <th>occup</th>\n",
       "      <td>None</td>\n",
       "      <td>None</td>\n",
       "      <td>None</td>\n",
       "    </tr>\n",
       "    <tr>\n",
       "      <th>entdepa</th>\n",
       "      <td>G</td>\n",
       "      <td>G</td>\n",
       "      <td>G</td>\n",
       "    </tr>\n",
       "    <tr>\n",
       "      <th>entdepd</th>\n",
       "      <td>O</td>\n",
       "      <td>O</td>\n",
       "      <td>O</td>\n",
       "    </tr>\n",
       "    <tr>\n",
       "      <th>entdepu</th>\n",
       "      <td>None</td>\n",
       "      <td>None</td>\n",
       "      <td>None</td>\n",
       "    </tr>\n",
       "    <tr>\n",
       "      <th>matflag</th>\n",
       "      <td>M</td>\n",
       "      <td>M</td>\n",
       "      <td>M</td>\n",
       "    </tr>\n",
       "    <tr>\n",
       "      <th>biryear</th>\n",
       "      <td>1976</td>\n",
       "      <td>1984</td>\n",
       "      <td>1987</td>\n",
       "    </tr>\n",
       "    <tr>\n",
       "      <th>dtaddto</th>\n",
       "      <td>10292016</td>\n",
       "      <td>10292016</td>\n",
       "      <td>10292016</td>\n",
       "    </tr>\n",
       "    <tr>\n",
       "      <th>gender</th>\n",
       "      <td>F</td>\n",
       "      <td>F</td>\n",
       "      <td>M</td>\n",
       "    </tr>\n",
       "    <tr>\n",
       "      <th>insnum</th>\n",
       "      <td>None</td>\n",
       "      <td>None</td>\n",
       "      <td>None</td>\n",
       "    </tr>\n",
       "    <tr>\n",
       "      <th>airline</th>\n",
       "      <td>QF</td>\n",
       "      <td>VA</td>\n",
       "      <td>DL</td>\n",
       "    </tr>\n",
       "    <tr>\n",
       "      <th>admnum</th>\n",
       "      <td>9.49539e+10</td>\n",
       "      <td>9.49556e+10</td>\n",
       "      <td>9.49564e+10</td>\n",
       "    </tr>\n",
       "    <tr>\n",
       "      <th>fltno</th>\n",
       "      <td>00011</td>\n",
       "      <td>00007</td>\n",
       "      <td>00040</td>\n",
       "    </tr>\n",
       "    <tr>\n",
       "      <th>visatype</th>\n",
       "      <td>B1</td>\n",
       "      <td>B1</td>\n",
       "      <td>B1</td>\n",
       "    </tr>\n",
       "  </tbody>\n",
       "</table>\n",
       "</div>"
      ],
      "text/plain": [
       "                    0            1            2\n",
       "cicid     5.74852e+06  5.74852e+06  5.74852e+06\n",
       "i94yr            2016         2016         2016\n",
       "i94mon              4            4            4\n",
       "i94cit            245          245          245\n",
       "i94res            438          438          438\n",
       "i94port           LOS          LOS          LOS\n",
       "arrdate         20574        20574        20574\n",
       "i94mode             1            1            1\n",
       "i94addr            CA           NV           WA\n",
       "depdate         20582        20591        20582\n",
       "i94bir             40           32           29\n",
       "i94visa             1            1            1\n",
       "count               1            1            1\n",
       "dtadfile     20160430     20160430     20160430\n",
       "visapost          SYD          SYD          SYD\n",
       "occup            None         None         None\n",
       "entdepa             G            G            G\n",
       "entdepd             O            O            O\n",
       "entdepu          None         None         None\n",
       "matflag             M            M            M\n",
       "biryear          1976         1984         1987\n",
       "dtaddto      10292016     10292016     10292016\n",
       "gender              F            F            M\n",
       "insnum           None         None         None\n",
       "airline            QF           VA           DL\n",
       "admnum    9.49539e+10  9.49556e+10  9.49564e+10\n",
       "fltno           00011        00007        00040\n",
       "visatype           B1           B1           B1"
      ]
     },
     "execution_count": 9,
     "metadata": {},
     "output_type": "execute_result"
    }
   ],
   "source": [
    "immigrants.limit(3).toPandas().T"
   ]
  },
  {
   "cell_type": "code",
   "execution_count": 10,
   "metadata": {
    "editable": true
   },
   "outputs": [],
   "source": [
    "immigrants=immigrants.select(\"cicid\", \"i94yr\", \"i94mon\", \"i94cit\", \"i94res\", \"i94port\", \"arrdate\", \"i94visa\",  \"biryear\", \"gender\", \"visatype\", \"airline\")"
   ]
  },
  {
   "cell_type": "code",
   "execution_count": 11,
   "metadata": {
    "editable": true
   },
   "outputs": [
    {
     "data": {
      "text/html": [
       "<div>\n",
       "<style scoped>\n",
       "    .dataframe tbody tr th:only-of-type {\n",
       "        vertical-align: middle;\n",
       "    }\n",
       "\n",
       "    .dataframe tbody tr th {\n",
       "        vertical-align: top;\n",
       "    }\n",
       "\n",
       "    .dataframe thead th {\n",
       "        text-align: right;\n",
       "    }\n",
       "</style>\n",
       "<table border=\"1\" class=\"dataframe\">\n",
       "  <thead>\n",
       "    <tr style=\"text-align: right;\">\n",
       "      <th></th>\n",
       "      <th>0</th>\n",
       "      <th>1</th>\n",
       "      <th>2</th>\n",
       "    </tr>\n",
       "  </thead>\n",
       "  <tbody>\n",
       "    <tr>\n",
       "      <th>cicid</th>\n",
       "      <td>5.74852e+06</td>\n",
       "      <td>5.74852e+06</td>\n",
       "      <td>5.74852e+06</td>\n",
       "    </tr>\n",
       "    <tr>\n",
       "      <th>i94yr</th>\n",
       "      <td>2016</td>\n",
       "      <td>2016</td>\n",
       "      <td>2016</td>\n",
       "    </tr>\n",
       "    <tr>\n",
       "      <th>i94mon</th>\n",
       "      <td>4</td>\n",
       "      <td>4</td>\n",
       "      <td>4</td>\n",
       "    </tr>\n",
       "    <tr>\n",
       "      <th>i94cit</th>\n",
       "      <td>245</td>\n",
       "      <td>245</td>\n",
       "      <td>245</td>\n",
       "    </tr>\n",
       "    <tr>\n",
       "      <th>i94res</th>\n",
       "      <td>438</td>\n",
       "      <td>438</td>\n",
       "      <td>438</td>\n",
       "    </tr>\n",
       "    <tr>\n",
       "      <th>i94port</th>\n",
       "      <td>LOS</td>\n",
       "      <td>LOS</td>\n",
       "      <td>LOS</td>\n",
       "    </tr>\n",
       "    <tr>\n",
       "      <th>arrdate</th>\n",
       "      <td>20574</td>\n",
       "      <td>20574</td>\n",
       "      <td>20574</td>\n",
       "    </tr>\n",
       "    <tr>\n",
       "      <th>i94visa</th>\n",
       "      <td>1</td>\n",
       "      <td>1</td>\n",
       "      <td>1</td>\n",
       "    </tr>\n",
       "    <tr>\n",
       "      <th>biryear</th>\n",
       "      <td>1976</td>\n",
       "      <td>1984</td>\n",
       "      <td>1987</td>\n",
       "    </tr>\n",
       "    <tr>\n",
       "      <th>gender</th>\n",
       "      <td>F</td>\n",
       "      <td>F</td>\n",
       "      <td>M</td>\n",
       "    </tr>\n",
       "    <tr>\n",
       "      <th>visatype</th>\n",
       "      <td>B1</td>\n",
       "      <td>B1</td>\n",
       "      <td>B1</td>\n",
       "    </tr>\n",
       "    <tr>\n",
       "      <th>airline</th>\n",
       "      <td>QF</td>\n",
       "      <td>VA</td>\n",
       "      <td>DL</td>\n",
       "    </tr>\n",
       "  </tbody>\n",
       "</table>\n",
       "</div>"
      ],
      "text/plain": [
       "                    0            1            2\n",
       "cicid     5.74852e+06  5.74852e+06  5.74852e+06\n",
       "i94yr            2016         2016         2016\n",
       "i94mon              4            4            4\n",
       "i94cit            245          245          245\n",
       "i94res            438          438          438\n",
       "i94port           LOS          LOS          LOS\n",
       "arrdate         20574        20574        20574\n",
       "i94visa             1            1            1\n",
       "biryear          1976         1984         1987\n",
       "gender              F            F            M\n",
       "visatype           B1           B1           B1\n",
       "airline            QF           VA           DL"
      ]
     },
     "execution_count": 11,
     "metadata": {},
     "output_type": "execute_result"
    }
   ],
   "source": [
    "immigrants.limit(3).toPandas().T"
   ]
  },
  {
   "cell_type": "code",
   "execution_count": 12,
   "metadata": {
    "editable": true
   },
   "outputs": [
    {
     "name": "stdout",
     "output_type": "stream",
     "text": [
      "+------+------+\n",
      "|i94cit| count|\n",
      "+------+------+\n",
      "|   135|351396|\n",
      "|   209|204462|\n",
      "|   111|182316|\n",
      "|   245|178077|\n",
      "|   582|173774|\n",
      "+------+------+\n",
      "only showing top 5 rows\n",
      "\n"
     ]
    }
   ],
   "source": [
    "mode = immigrants.groupby(['i94cit']).count()\n",
    "mode=mode.withColumn(\"i94cit\", mode[\"i94cit\"].cast(IntegerType())).orderBy(desc(\"count\"))\n",
    "mode.show(5)"
   ]
  },
  {
   "cell_type": "code",
   "execution_count": 13,
   "metadata": {
    "editable": true
   },
   "outputs": [
    {
     "name": "stdout",
     "output_type": "stream",
     "text": [
      "+---------+------+------+------+------+-------+-------+-------+-------+------+--------+-------+\n",
      "|    cicid| i94yr|i94mon|i94cit|i94res|i94port|arrdate|i94visa|biryear|gender|visatype|airline|\n",
      "+---------+------+------+------+------+-------+-------+-------+-------+------+--------+-------+\n",
      "|5748517.0|2016.0|   4.0| 245.0| 438.0|    LOS|20574.0|    1.0|   1976|     F|      B1|     QF|\n",
      "|5748518.0|2016.0|   4.0| 245.0| 438.0|    LOS|20574.0|    1.0|   1984|     F|      B1|     VA|\n",
      "|5748519.0|2016.0|   4.0| 245.0| 438.0|    LOS|20574.0|    1.0|   1987|     M|      B1|     DL|\n",
      "|5748520.0|2016.0|   4.0| 245.0| 438.0|    LOS|20574.0|    1.0|   1987|     F|      B1|     DL|\n",
      "|5748521.0|2016.0|   4.0| 245.0| 438.0|    LOS|20574.0|    1.0|   1988|     M|      B1|     DL|\n",
      "+---------+------+------+------+------+-------+-------+-------+-------+------+--------+-------+\n",
      "only showing top 5 rows\n",
      "\n"
     ]
    }
   ],
   "source": [
    "#immigrants.groupby(['i94cit']).count().orderBy(desc(\"count\")).show()\n",
    "#immigrants = immigrants.withColumn(\"i94cit\", immigrants[\"i94cit\"].cast(IntegerType()))\n",
    "#immigrants = immigrants.withColumn(\"i94res\", immigrants[\"i94res\"].cast(IntegerType()))\n",
    "#immigrants = immigrants.withColumn(\"i94visa\", immigrants[\"i94visa\"].cast(IntegerType()))\n",
    "immigrants = immigrants.withColumn(\"biryear\", immigrants[\"biryear\"].cast(IntegerType()))\n",
    "immigrants.show(5)"
   ]
  },
  {
   "cell_type": "code",
   "execution_count": 14,
   "metadata": {
    "editable": true
   },
   "outputs": [],
   "source": [
    "Schema_country = R([\n",
    "    Fld(\"id\",Str()),\n",
    "    Fld(\"country\",Str())\n",
    "    ])\n"
   ]
  },
  {
   "cell_type": "code",
   "execution_count": 15,
   "metadata": {
    "editable": true
   },
   "outputs": [],
   "source": [
    "country_dict=spark.read.csv(\n",
    "    \"country_dict.csv\", header=False, mode=\"DROPMALFORMED\",sep=\"=\", schema=Schema_country)"
   ]
  },
  {
   "cell_type": "code",
   "execution_count": 16,
   "metadata": {
    "editable": true
   },
   "outputs": [
    {
     "data": {
      "text/plain": [
       "[Row(id=' 582 ', country=\"  'MEXICO'\"),\n",
       " Row(id='   236 ', country=\"  'AFGHANISTAN'\"),\n",
       " Row(id='   101 ', country=\"  'ALBANIA'\"),\n",
       " Row(id='   316 ', country=\"  'ALGERIA'\"),\n",
       " Row(id='   102 ', country=\"  'ANDORRA'\")]"
      ]
     },
     "execution_count": 16,
     "metadata": {},
     "output_type": "execute_result"
    }
   ],
   "source": [
    "country_dict.take(5)"
   ]
  },
  {
   "cell_type": "code",
   "execution_count": 17,
   "metadata": {
    "editable": true
   },
   "outputs": [
    {
     "name": "stdout",
     "output_type": "stream",
     "text": [
      "+-------+-------------------+\n",
      "|     id|            country|\n",
      "+-------+-------------------+\n",
      "|   582 |           'MEXICO'|\n",
      "|   236 |      'AFGHANISTAN'|\n",
      "|   101 |          'ALBANIA'|\n",
      "|   316 |          'ALGERIA'|\n",
      "|   102 |          'ANDORRA'|\n",
      "|   324 |           'ANGOLA'|\n",
      "|   529 |         'ANGUILLA'|\n",
      "|   518 |  'ANTIGUA-BARBUDA'|\n",
      "|   687 |        'ARGENTINA'|\n",
      "|   151 |          'ARMENIA'|\n",
      "|   532 |            'ARUBA'|\n",
      "|   438 |        'AUSTRALIA'|\n",
      "|   103 |          'AUSTRIA'|\n",
      "|   152 |       'AZERBAIJAN'|\n",
      "|   512 |          'BAHAMAS'|\n",
      "|   298 |          'BAHRAIN'|\n",
      "|   274 |       'BANGLADESH'|\n",
      "|   513 |         'BARBADOS'|\n",
      "|   104 |          'BELGIUM'|\n",
      "|   581 |           'BELIZE'|\n",
      "+-------+-------------------+\n",
      "only showing top 20 rows\n",
      "\n"
     ]
    }
   ],
   "source": [
    "spaceDeleteUDF = udf(lambda s: s.replace(\" \", \"\"), Str())\n",
    "ampesandDeleteUDF = udf(lambda s: s.replace(\"'\", \"\"), Str())\n",
    "\n",
    "country_dict.withColumn(\"id\", spaceDeleteUDF(\"id\"))\n",
    "#country_dict.withColumn(\"id\", ampesandDeleteUDF(\"country\"))  #???\n",
    "#immigrants = immigrants.withColumn(\"i94cit\", immigrants[\"i94cit\"].cast(IntegerType()))\n",
    "\n",
    "country_dict.show()"
   ]
  },
  {
   "cell_type": "code",
   "execution_count": 18,
   "metadata": {
    "editable": true
   },
   "outputs": [
    {
     "name": "stdout",
     "output_type": "stream",
     "text": [
      "root\n",
      " |-- cicid: double (nullable = true)\n",
      " |-- i94yr: double (nullable = true)\n",
      " |-- i94mon: double (nullable = true)\n",
      " |-- i94cit: double (nullable = true)\n",
      " |-- i94res: double (nullable = true)\n",
      " |-- i94port: string (nullable = true)\n",
      " |-- arrdate: double (nullable = true)\n",
      " |-- i94visa: double (nullable = true)\n",
      " |-- biryear: integer (nullable = true)\n",
      " |-- gender: string (nullable = true)\n",
      " |-- visatype: string (nullable = true)\n",
      " |-- airline: string (nullable = true)\n",
      "\n"
     ]
    }
   ],
   "source": [
    "immigrants.printSchema()"
   ]
  },
  {
   "cell_type": "code",
   "execution_count": 19,
   "metadata": {
    "editable": true
   },
   "outputs": [
    {
     "name": "stdout",
     "output_type": "stream",
     "text": [
      "+---------+------+------+------+-------+-------+-------+-------+------+--------+-------+------------+\n",
      "|    cicid| i94yr|i94mon|i94res|i94port|arrdate|i94visa|biryear|gender|visatype|airline| cit_country|\n",
      "+---------+------+------+------+-------+-------+-------+-------+------+--------+-------+------------+\n",
      "|5761447.0|2016.0|   4.0| 299.0|    LOS|20574.0|    2.0|   1972|     F|      B2|     KE|  'MONGOLIA'|\n",
      "|5761448.0|2016.0|   4.0| 299.0|    CHI|20574.0|    2.0|   1974|     F|      B2|     SK|  'MONGOLIA'|\n",
      "|5761451.0|2016.0|   4.0| 299.0|    WAS|20574.0|    3.0|   1982|     M|      F2|     UA|  'MONGOLIA'|\n",
      "|5761452.0|2016.0|   4.0| 299.0|    WAS|20574.0|    2.0|   1990|     F|      B2|     UA|  'MONGOLIA'|\n",
      "|5761453.0|2016.0|   4.0| 299.0|    WAS|20574.0|    1.0|   1966|     M|      B1|     KE|  'MONGOLIA'|\n",
      "|5761454.0|2016.0|   4.0| 299.0|    WAS|20574.0|    2.0|   1950|     F|      B2|     KE|  'MONGOLIA'|\n",
      "|5761455.0|2016.0|   4.0| 299.0|    WAS|20574.0|    2.0|   1970|     F|      B2|     KE|  'MONGOLIA'|\n",
      "|5761458.0|2016.0|   4.0| 299.0|    WAS|20574.0|    1.0|   1976|     M|      B1|     KE|  'MONGOLIA'|\n",
      "|5761459.0|2016.0|   4.0| 299.0|    LOS|20574.0|    1.0|   1989|     F|      E2|     KE|  'MONGOLIA'|\n",
      "|5761460.0|2016.0|   4.0| 299.0|    LOS|20574.0|    2.0|   1996|     F|      B2|     KE|  'MONGOLIA'|\n",
      "|5761461.0|2016.0|   4.0| 299.0|    LOS|20574.0|    2.0|   1955|     M|      B2|     KE|  'MONGOLIA'|\n",
      "|5761462.0|2016.0|   4.0| 299.0|    LOS|20574.0|    2.0|   1957|     F|      B2|     KE|  'MONGOLIA'|\n",
      "|5761463.0|2016.0|   4.0| 299.0|    LOS|20574.0|    2.0|   1941|     F|      B2|     KE|  'MONGOLIA'|\n",
      "|5761464.0|2016.0|   4.0| 299.0|    CHI|20574.0|    2.0|   1972|     M|      B2|     KE|  'MONGOLIA'|\n",
      "|5761465.0|2016.0|   4.0| 299.0|    CHI|20574.0|    2.0|   1975|     F|      B2|     KE|  'MONGOLIA'|\n",
      "|5761466.0|2016.0|   4.0| 299.0|    CHI|20574.0|    2.0|   1969|     M|      B2|     KE|  'MONGOLIA'|\n",
      "|5761467.0|2016.0|   4.0| 299.0|    SFR|20574.0|    1.0|   1985|     F|      B1|     UA|  'MONGOLIA'|\n",
      "|5761468.0|2016.0|   4.0| 299.0|    SFR|20574.0|    2.0|   1957|     F|      B2|     KE|  'MONGOLIA'|\n",
      "|5761469.0|2016.0|   4.0| 299.0|    SFR|20574.0|    3.0|   1989|     F|      F1|     UA|  'MONGOLIA'|\n",
      "|5761470.0|2016.0|   4.0| 299.0|    SFR|20574.0|    2.0|   1986|     F|      B2|     UA|  'MONGOLIA'|\n",
      "+---------+------+------+------+-------+-------+-------+-------+------+--------+-------+------------+\n",
      "only showing top 20 rows\n",
      "\n"
     ]
    }
   ],
   "source": [
    "immigrants = immigrants.join(country_dict, immigrants.i94cit == country_dict.id,how='right') # Could also use 'left_outer'\n",
    "immigrants=immigrants.withColumnRenamed(\"country\", \"cit_country\")\n",
    "immigrants=immigrants.drop('id','i94cit')\n",
    "immigrants.show()"
   ]
  },
  {
   "cell_type": "code",
   "execution_count": 20,
   "metadata": {
    "editable": true
   },
   "outputs": [
    {
     "name": "stdout",
     "output_type": "stream",
     "text": [
      "root\n",
      " |-- cicid: double (nullable = true)\n",
      " |-- i94yr: double (nullable = true)\n",
      " |-- i94mon: double (nullable = true)\n",
      " |-- i94res: double (nullable = true)\n",
      " |-- i94port: string (nullable = true)\n",
      " |-- arrdate: double (nullable = true)\n",
      " |-- i94visa: double (nullable = true)\n",
      " |-- biryear: integer (nullable = true)\n",
      " |-- gender: string (nullable = true)\n",
      " |-- visatype: string (nullable = true)\n",
      " |-- airline: string (nullable = true)\n",
      " |-- cit_country: string (nullable = true)\n",
      "\n"
     ]
    }
   ],
   "source": [
    "#immigrants=immigrants.drop('id')\n",
    "immigrants.printSchema()"
   ]
  },
  {
   "cell_type": "code",
   "execution_count": 21,
   "metadata": {
    "editable": true
   },
   "outputs": [
    {
     "data": {
      "text/plain": [
       "[Row(cicid=5761447.0, i94yr=2016.0, i94mon=4.0, i94res=299.0, i94port='LOS', arrdate=20574.0, i94visa=2.0, biryear=1972, gender='F', visatype='B2', airline='KE', cit_country=\"  'MONGOLIA'\"),\n",
       " Row(cicid=5761448.0, i94yr=2016.0, i94mon=4.0, i94res=299.0, i94port='CHI', arrdate=20574.0, i94visa=2.0, biryear=1974, gender='F', visatype='B2', airline='SK', cit_country=\"  'MONGOLIA'\"),\n",
       " Row(cicid=5761451.0, i94yr=2016.0, i94mon=4.0, i94res=299.0, i94port='WAS', arrdate=20574.0, i94visa=3.0, biryear=1982, gender='M', visatype='F2', airline='UA', cit_country=\"  'MONGOLIA'\")]"
      ]
     },
     "execution_count": 21,
     "metadata": {},
     "output_type": "execute_result"
    }
   ],
   "source": [
    "immigrants.take(3)"
   ]
  },
  {
   "cell_type": "code",
   "execution_count": 22,
   "metadata": {
    "editable": true
   },
   "outputs": [
    {
     "name": "stdout",
     "output_type": "stream",
     "text": [
      "+---------+------+------+-------+-------+-------+-------+------+--------+-------+------------+------------+\n",
      "|    cicid| i94yr|i94mon|i94port|arrdate|i94visa|biryear|gender|visatype|airline| cit_country| res_country|\n",
      "+---------+------+------+-------+-------+-------+-------+------+--------+-------+------------+------------+\n",
      "|5761447.0|2016.0|   4.0|    LOS|20574.0|    2.0|   1972|     F|      B2|     KE|  'MONGOLIA'|  'MONGOLIA'|\n",
      "|5761448.0|2016.0|   4.0|    CHI|20574.0|    2.0|   1974|     F|      B2|     SK|  'MONGOLIA'|  'MONGOLIA'|\n",
      "|5761451.0|2016.0|   4.0|    WAS|20574.0|    3.0|   1982|     M|      F2|     UA|  'MONGOLIA'|  'MONGOLIA'|\n",
      "|5761452.0|2016.0|   4.0|    WAS|20574.0|    2.0|   1990|     F|      B2|     UA|  'MONGOLIA'|  'MONGOLIA'|\n",
      "|5761453.0|2016.0|   4.0|    WAS|20574.0|    1.0|   1966|     M|      B1|     KE|  'MONGOLIA'|  'MONGOLIA'|\n",
      "|5761454.0|2016.0|   4.0|    WAS|20574.0|    2.0|   1950|     F|      B2|     KE|  'MONGOLIA'|  'MONGOLIA'|\n",
      "|5761455.0|2016.0|   4.0|    WAS|20574.0|    2.0|   1970|     F|      B2|     KE|  'MONGOLIA'|  'MONGOLIA'|\n",
      "|5761458.0|2016.0|   4.0|    WAS|20574.0|    1.0|   1976|     M|      B1|     KE|  'MONGOLIA'|  'MONGOLIA'|\n",
      "|5761459.0|2016.0|   4.0|    LOS|20574.0|    1.0|   1989|     F|      E2|     KE|  'MONGOLIA'|  'MONGOLIA'|\n",
      "|5761460.0|2016.0|   4.0|    LOS|20574.0|    2.0|   1996|     F|      B2|     KE|  'MONGOLIA'|  'MONGOLIA'|\n",
      "|5761461.0|2016.0|   4.0|    LOS|20574.0|    2.0|   1955|     M|      B2|     KE|  'MONGOLIA'|  'MONGOLIA'|\n",
      "|5761462.0|2016.0|   4.0|    LOS|20574.0|    2.0|   1957|     F|      B2|     KE|  'MONGOLIA'|  'MONGOLIA'|\n",
      "|5761463.0|2016.0|   4.0|    LOS|20574.0|    2.0|   1941|     F|      B2|     KE|  'MONGOLIA'|  'MONGOLIA'|\n",
      "|5761464.0|2016.0|   4.0|    CHI|20574.0|    2.0|   1972|     M|      B2|     KE|  'MONGOLIA'|  'MONGOLIA'|\n",
      "|5761465.0|2016.0|   4.0|    CHI|20574.0|    2.0|   1975|     F|      B2|     KE|  'MONGOLIA'|  'MONGOLIA'|\n",
      "|5761466.0|2016.0|   4.0|    CHI|20574.0|    2.0|   1969|     M|      B2|     KE|  'MONGOLIA'|  'MONGOLIA'|\n",
      "|5761467.0|2016.0|   4.0|    SFR|20574.0|    1.0|   1985|     F|      B1|     UA|  'MONGOLIA'|  'MONGOLIA'|\n",
      "|5761468.0|2016.0|   4.0|    SFR|20574.0|    2.0|   1957|     F|      B2|     KE|  'MONGOLIA'|  'MONGOLIA'|\n",
      "|5761469.0|2016.0|   4.0|    SFR|20574.0|    3.0|   1989|     F|      F1|     UA|  'MONGOLIA'|  'MONGOLIA'|\n",
      "|5761470.0|2016.0|   4.0|    SFR|20574.0|    2.0|   1986|     F|      B2|     UA|  'MONGOLIA'|  'MONGOLIA'|\n",
      "+---------+------+------+-------+-------+-------+-------+------+--------+-------+------------+------------+\n",
      "only showing top 20 rows\n",
      "\n"
     ]
    }
   ],
   "source": [
    "immigrants = immigrants.join(country_dict, immigrants.i94res == country_dict.id,how='right') \n",
    "immigrants=immigrants.withColumnRenamed(\"country\", \"res_country\")\n",
    "immigrants=immigrants.drop('id','i94res')\n",
    "immigrants.show()"
   ]
  },
  {
   "cell_type": "code",
   "execution_count": 23,
   "metadata": {
    "editable": true
   },
   "outputs": [],
   "source": [
    "Schema_Visa = R([\n",
    "    Fld(\"id\",Str()),\n",
    "    Fld(\"Visa_Type\",Str())\n",
    "    ])\n",
    "visa_dict=spark.read.csv(\n",
    "    \"visa_dict.csv\", header=False, mode=\"DROPMALFORMED\",sep=\"=\", schema=Schema_Visa)"
   ]
  },
  {
   "cell_type": "code",
   "execution_count": 24,
   "metadata": {
    "editable": true
   },
   "outputs": [
    {
     "name": "stdout",
     "output_type": "stream",
     "text": [
      "+---+---------+\n",
      "| id|Visa_Type|\n",
      "+---+---------+\n",
      "| 1 | Business|\n",
      "| 2 | Pleasure|\n",
      "| 3 |  Student|\n",
      "+---+---------+\n",
      "\n"
     ]
    }
   ],
   "source": [
    "visa_dict.show(3)"
   ]
  },
  {
   "cell_type": "code",
   "execution_count": 25,
   "metadata": {
    "editable": true
   },
   "outputs": [
    {
     "name": "stdout",
     "output_type": "stream",
     "text": [
      "+---------+------+------+-------+-------+-------+------+--------+-------+-----------+-------------+---------+\n",
      "|    cicid| i94yr|i94mon|i94port|arrdate|biryear|gender|visatype|airline|cit_country|  res_country|Visa_Type|\n",
      "+---------+------+------+-------+-------+-------+------+--------+-------+-----------+-------------+---------+\n",
      "|5748517.0|2016.0|   4.0|    LOS|20574.0|   1976|     F|      B1|     QF|    'CHINA'|  'AUSTRALIA'| Business|\n",
      "|5748518.0|2016.0|   4.0|    LOS|20574.0|   1984|     F|      B1|     VA|    'CHINA'|  'AUSTRALIA'| Business|\n",
      "|5748519.0|2016.0|   4.0|    LOS|20574.0|   1987|     M|      B1|     DL|    'CHINA'|  'AUSTRALIA'| Business|\n",
      "|5748520.0|2016.0|   4.0|    LOS|20574.0|   1987|     F|      B1|     DL|    'CHINA'|  'AUSTRALIA'| Business|\n",
      "|5748521.0|2016.0|   4.0|    LOS|20574.0|   1988|     M|      B1|     DL|    'CHINA'|  'AUSTRALIA'| Business|\n",
      "|5748876.0|2016.0|   4.0|    HOU|20574.0|   1973|     M|      B1|     UA|    'CHINA'|     'MEXICO'| Business|\n",
      "|5748877.0|2016.0|   4.0|    HOU|20574.0|   1986|     F|      B1|     UA|    'CHINA'|     'MEXICO'| Business|\n",
      "|5748889.0|2016.0|   4.0|    ORL|20574.0|   1988|     M|      B1|     B6|    'CHINA'|   'COLOMBIA'| Business|\n",
      "|5748904.0|2016.0|   4.0|    HOU|20574.0|   1987|     M|      B1|     AF|     'IRAN'|      'ITALY'| Business|\n",
      "|5748905.0|2016.0|   4.0|    WAS|20574.0|   1983|     M|      B1|     LH|     'IRAN'|    'GERMANY'| Business|\n",
      "|5748910.0|2016.0|   4.0|    PHI|20574.0|   1976|     M|      B1|     AA|     'IRAN'|       'IRAN'| Business|\n",
      "|5748926.0|2016.0|   4.0|    HOU|20574.0|   1976|     M|      B1|     QR|     'IRAN'|       'IRAN'| Business|\n",
      "|5748932.0|2016.0|   4.0|    SEA|20574.0|   1985|     F|      B1|     BA|     'IRAN'|       'IRAN'| Business|\n",
      "|5748936.0|2016.0|   4.0|    MON|20574.0|   1974|     M|      B1|     EV|     'IRAN'|       'IRAN'| Business|\n",
      "|5748953.0|2016.0|   4.0|    SFR|20574.0|   1967|     F|      B1|     QF|     'IRAN'|  'AUSTRALIA'| Business|\n",
      "|5748964.0|2016.0|   4.0|    DAL|20574.0|   1972|  null|      B1|     QR|     'IRAQ'|       'IRAQ'| Business|\n",
      "|5748967.0|2016.0|   4.0|    WAS|20574.0|   1982|     M|      B1|     TK|     'IRAQ'|       'IRAQ'| Business|\n",
      "|5748968.0|2016.0|   4.0|    WAS|20574.0|   1947|  null|      B1|     TK|     'IRAQ'|       'IRAQ'| Business|\n",
      "|5748969.0|2016.0|   4.0|    HOU|20574.0|   1967|     M|      B1|     EK|     'IRAQ'|       'IRAQ'| Business|\n",
      "|5748970.0|2016.0|   4.0|    LOS|20574.0|   1980|  null|      B1|     EK|     'IRAQ'|       'IRAQ'| Business|\n",
      "+---------+------+------+-------+-------+-------+------+--------+-------+-----------+-------------+---------+\n",
      "only showing top 20 rows\n",
      "\n"
     ]
    }
   ],
   "source": [
    "immigrants = immigrants.join(visa_dict, immigrants.i94visa == visa_dict.id,how='right') \n",
    "immigrants=immigrants.drop('id','i94visa')\n",
    "immigrants.show()"
   ]
  },
  {
   "cell_type": "code",
   "execution_count": 28,
   "metadata": {
    "editable": true
   },
   "outputs": [],
   "source": [
    "immigrants.createOrReplaceTempView(\"immigrants\")"
   ]
  },
  {
   "cell_type": "code",
   "execution_count": 29,
   "metadata": {
    "editable": true
   },
   "outputs": [],
   "source": [
    "immigrants.createOrReplaceTempView(\"immigrants\")\n",
    "immigrations = spark.sql(\"SELECT *, date_add(to_date('1960-01-01'), arrdate) AS arrival_date FROM immigrants\")\n",
    "immigrants=immigrants.drop('arrdate')"
   ]
  },
  {
   "cell_type": "code",
   "execution_count": 33,
   "metadata": {
    "editable": true
   },
   "outputs": [
    {
     "name": "stdout",
     "output_type": "stream",
     "text": [
      "+---------+------+------+-------+-------+-------+------+--------+-------+-----------+-------------+---------+------------+\n",
      "|    cicid| i94yr|i94mon|i94port|arrdate|biryear|gender|visatype|airline|cit_country|  res_country|Visa_Type|arrival_date|\n",
      "+---------+------+------+-------+-------+-------+------+--------+-------+-----------+-------------+---------+------------+\n",
      "|5748517.0|2016.0|   4.0|    LOS|20574.0|   1976|     F|      B1|     QF|    'CHINA'|  'AUSTRALIA'| Business|  2016-04-30|\n",
      "|5748518.0|2016.0|   4.0|    LOS|20574.0|   1984|     F|      B1|     VA|    'CHINA'|  'AUSTRALIA'| Business|  2016-04-30|\n",
      "|5748519.0|2016.0|   4.0|    LOS|20574.0|   1987|     M|      B1|     DL|    'CHINA'|  'AUSTRALIA'| Business|  2016-04-30|\n",
      "|5748520.0|2016.0|   4.0|    LOS|20574.0|   1987|     F|      B1|     DL|    'CHINA'|  'AUSTRALIA'| Business|  2016-04-30|\n",
      "|5748521.0|2016.0|   4.0|    LOS|20574.0|   1988|     M|      B1|     DL|    'CHINA'|  'AUSTRALIA'| Business|  2016-04-30|\n",
      "|5748876.0|2016.0|   4.0|    HOU|20574.0|   1973|     M|      B1|     UA|    'CHINA'|     'MEXICO'| Business|  2016-04-30|\n",
      "|5748877.0|2016.0|   4.0|    HOU|20574.0|   1986|     F|      B1|     UA|    'CHINA'|     'MEXICO'| Business|  2016-04-30|\n",
      "|5748889.0|2016.0|   4.0|    ORL|20574.0|   1988|     M|      B1|     B6|    'CHINA'|   'COLOMBIA'| Business|  2016-04-30|\n",
      "|5748904.0|2016.0|   4.0|    HOU|20574.0|   1987|     M|      B1|     AF|     'IRAN'|      'ITALY'| Business|  2016-04-30|\n",
      "|5748905.0|2016.0|   4.0|    WAS|20574.0|   1983|     M|      B1|     LH|     'IRAN'|    'GERMANY'| Business|  2016-04-30|\n",
      "|5748910.0|2016.0|   4.0|    PHI|20574.0|   1976|     M|      B1|     AA|     'IRAN'|       'IRAN'| Business|  2016-04-30|\n",
      "|5748926.0|2016.0|   4.0|    HOU|20574.0|   1976|     M|      B1|     QR|     'IRAN'|       'IRAN'| Business|  2016-04-30|\n",
      "|5748932.0|2016.0|   4.0|    SEA|20574.0|   1985|     F|      B1|     BA|     'IRAN'|       'IRAN'| Business|  2016-04-30|\n",
      "|5748936.0|2016.0|   4.0|    MON|20574.0|   1974|     M|      B1|     EV|     'IRAN'|       'IRAN'| Business|  2016-04-30|\n",
      "|5748953.0|2016.0|   4.0|    SFR|20574.0|   1967|     F|      B1|     QF|     'IRAN'|  'AUSTRALIA'| Business|  2016-04-30|\n",
      "|5748964.0|2016.0|   4.0|    DAL|20574.0|   1972|  null|      B1|     QR|     'IRAQ'|       'IRAQ'| Business|  2016-04-30|\n",
      "|5748967.0|2016.0|   4.0|    WAS|20574.0|   1982|     M|      B1|     TK|     'IRAQ'|       'IRAQ'| Business|  2016-04-30|\n",
      "|5748968.0|2016.0|   4.0|    WAS|20574.0|   1947|  null|      B1|     TK|     'IRAQ'|       'IRAQ'| Business|  2016-04-30|\n",
      "|5748969.0|2016.0|   4.0|    HOU|20574.0|   1967|     M|      B1|     EK|     'IRAQ'|       'IRAQ'| Business|  2016-04-30|\n",
      "|5748970.0|2016.0|   4.0|    LOS|20574.0|   1980|  null|      B1|     EK|     'IRAQ'|       'IRAQ'| Business|  2016-04-30|\n",
      "+---------+------+------+-------+-------+-------+------+--------+-------+-----------+-------------+---------+------------+\n",
      "only showing top 20 rows\n",
      "\n"
     ]
    }
   ],
   "source": [
    "immigrations.show()"
   ]
  },
  {
   "cell_type": "code",
   "execution_count": null,
   "metadata": {
    "editable": true
   },
   "outputs": [],
   "source": []
  }
 ],
 "metadata": {
  "kernelspec": {
   "display_name": "Python 3",
   "language": "python",
   "name": "python3"
  },
  "language_info": {
   "codemirror_mode": {
    "name": "ipython",
    "version": 3
   },
   "file_extension": ".py",
   "mimetype": "text/x-python",
   "name": "python",
   "nbconvert_exporter": "python",
   "pygments_lexer": "ipython3",
   "version": "3.6.3"
  }
 },
 "nbformat": 4,
 "nbformat_minor": 4
}
