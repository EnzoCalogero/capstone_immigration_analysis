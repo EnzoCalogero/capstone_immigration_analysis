{
 "cells": [
  {
   "cell_type": "code",
   "execution_count": 44,
   "metadata": {},
   "outputs": [
    {
     "data": {
      "application/vnd.jupyter.widget-view+json": {
       "model_id": "913c1f8d68334d1b832a6772ecedfd22",
       "version_major": 2,
       "version_minor": 0
      },
      "text/plain": [
       "VBox()"
      ]
     },
     "metadata": {},
     "output_type": "display_data"
    },
    {
     "data": {
      "application/vnd.jupyter.widget-view+json": {
       "model_id": "",
       "version_major": 2,
       "version_minor": 0
      },
      "text/plain": [
       "FloatProgress(value=0.0, bar_style='info', description='Progress:', layout=Layout(height='25px', width='50%'),…"
      ]
     },
     "metadata": {},
     "output_type": "display_data"
    }
   ],
   "source": [
    "from pyspark.sql import SparkSession\n",
    "import  pyspark.sql.functions as F\n",
    "from pyspark.sql.functions import col, split, udf\n",
    "from pyspark.sql.types import StructType as R, StructField as Fld, DoubleType as Dbl, StringType as Str, IntegerType as Int, DateType as Date\n",
    "from pyspark.sql.types import StructType as R, StructField as Fld, DoubleType as Dbl, StringType as Str, IntegerType as Int, DateType as Date\n",
    "from pyspark.sql.types import IntegerType, DateType\n",
    "from pyspark.sql.functions import desc"
   ]
  },
  {
   "cell_type": "code",
   "execution_count": 45,
   "metadata": {},
   "outputs": [
    {
     "data": {
      "application/vnd.jupyter.widget-view+json": {
       "model_id": "1e713bc0a6644540bc6088579576bb7f",
       "version_major": 2,
       "version_minor": 0
      },
      "text/plain": [
       "VBox()"
      ]
     },
     "metadata": {},
     "output_type": "display_data"
    },
    {
     "data": {
      "application/vnd.jupyter.widget-view+json": {
       "model_id": "",
       "version_major": 2,
       "version_minor": 0
      },
      "text/plain": [
       "FloatProgress(value=0.0, bar_style='info', description='Progress:', layout=Layout(height='25px', width='50%'),…"
      ]
     },
     "metadata": {},
     "output_type": "display_data"
    }
   ],
   "source": [
    "df_spark=spark.read.parquet(\"s3://immigration-us-1/sas_data\")"
   ]
  },
  {
   "cell_type": "code",
   "execution_count": 46,
   "metadata": {},
   "outputs": [
    {
     "data": {
      "application/vnd.jupyter.widget-view+json": {
       "model_id": "6ca829c66181422e89e12dd30f46383e",
       "version_major": 2,
       "version_minor": 0
      },
      "text/plain": [
       "VBox()"
      ]
     },
     "metadata": {},
     "output_type": "display_data"
    },
    {
     "data": {
      "application/vnd.jupyter.widget-view+json": {
       "model_id": "",
       "version_major": 2,
       "version_minor": 0
      },
      "text/plain": [
       "FloatProgress(value=0.0, bar_style='info', description='Progress:', layout=Layout(height='25px', width='50%'),…"
      ]
     },
     "metadata": {},
     "output_type": "display_data"
    },
    {
     "name": "stdout",
     "output_type": "stream",
     "text": [
      "[Row(cicid=1817663.0, i94yr=2016.0, i94mon=4.0, i94cit=148.0, i94res=131.0, i94port='SFR', arrdate=20554.0, i94mode=1.0, i94addr='CA', depdate=20560.0, i94bir=23.0, i94visa=2.0, count=1.0, dtadfile='20160410', visapost=None, occup=None, entdepa='G', entdepd='O', entdepu=None, matflag='M', biryear=1993.0, dtaddto='07082016', gender='F', insnum=None, airline='LX', admnum=55960415633.0, fltno='00038', visatype='WT'), Row(cicid=1817664.0, i94yr=2016.0, i94mon=4.0, i94cit=148.0, i94res=131.0, i94port='SFR', arrdate=20554.0, i94mode=1.0, i94addr='CA', depdate=20561.0, i94bir=29.0, i94visa=1.0, count=1.0, dtadfile='20160410', visapost=None, occup=None, entdepa='G', entdepd='O', entdepu=None, matflag='M', biryear=1987.0, dtaddto='07082016', gender='M', insnum=None, airline='LX', admnum=55960341333.0, fltno='00038', visatype='WB'), Row(cicid=1817665.0, i94yr=2016.0, i94mon=4.0, i94cit=148.0, i94res=131.0, i94port='SFR', arrdate=20554.0, i94mode=1.0, i94addr='CA', depdate=20563.0, i94bir=47.0, i94visa=1.0, count=1.0, dtadfile='20160410', visapost=None, occup=None, entdepa='G', entdepd='O', entdepu=None, matflag='M', biryear=1969.0, dtaddto='07082016', gender='M', insnum=None, airline='LX', admnum=55960409133.0, fltno='00038', visatype='WB')]"
     ]
    }
   ],
   "source": [
    "df_spark.take(3)"
   ]
  },
  {
   "cell_type": "code",
   "execution_count": 47,
   "metadata": {},
   "outputs": [
    {
     "data": {
      "application/vnd.jupyter.widget-view+json": {
       "model_id": "d65773a2eb9e4e84b1cd4851e21fd464",
       "version_major": 2,
       "version_minor": 0
      },
      "text/plain": [
       "VBox()"
      ]
     },
     "metadata": {},
     "output_type": "display_data"
    },
    {
     "data": {
      "application/vnd.jupyter.widget-view+json": {
       "model_id": "",
       "version_major": 2,
       "version_minor": 0
      },
      "text/plain": [
       "FloatProgress(value=0.0, bar_style='info', description='Progress:', layout=Layout(height='25px', width='50%'),…"
      ]
     },
     "metadata": {},
     "output_type": "display_data"
    },
    {
     "name": "stdout",
     "output_type": "stream",
     "text": [
      "3096313"
     ]
    }
   ],
   "source": [
    "df_spark.count()"
   ]
  },
  {
   "cell_type": "code",
   "execution_count": 48,
   "metadata": {},
   "outputs": [
    {
     "data": {
      "application/vnd.jupyter.widget-view+json": {
       "model_id": "e362061217024bc2aadb35c138e305cb",
       "version_major": 2,
       "version_minor": 0
      },
      "text/plain": [
       "VBox()"
      ]
     },
     "metadata": {},
     "output_type": "display_data"
    },
    {
     "data": {
      "application/vnd.jupyter.widget-view+json": {
       "model_id": "",
       "version_major": 2,
       "version_minor": 0
      },
      "text/plain": [
       "FloatProgress(value=0.0, bar_style='info', description='Progress:', layout=Layout(height='25px', width='50%'),…"
      ]
     },
     "metadata": {},
     "output_type": "display_data"
    },
    {
     "name": "stdout",
     "output_type": "stream",
     "text": [
      "2994505"
     ]
    }
   ],
   "source": [
    "immigrants=df_spark.where(F.col(\"i94mode\")==1) \n",
    "immigrants.count()"
   ]
  },
  {
   "cell_type": "code",
   "execution_count": 49,
   "metadata": {},
   "outputs": [
    {
     "data": {
      "application/vnd.jupyter.widget-view+json": {
       "model_id": "12ac028b624b4ea98a7b5d1f137cca38",
       "version_major": 2,
       "version_minor": 0
      },
      "text/plain": [
       "VBox()"
      ]
     },
     "metadata": {},
     "output_type": "display_data"
    },
    {
     "data": {
      "application/vnd.jupyter.widget-view+json": {
       "model_id": "",
       "version_major": 2,
       "version_minor": 0
      },
      "text/plain": [
       "FloatProgress(value=0.0, bar_style='info', description='Progress:', layout=Layout(height='25px', width='50%'),…"
      ]
     },
     "metadata": {},
     "output_type": "display_data"
    }
   ],
   "source": [
    "immigrants=immigrants.select(\"cicid\", \"i94yr\", \"i94mon\", \"i94cit\", \"i94res\", \"i94port\", \"arrdate\", \"i94visa\",  \"biryear\", \"gender\", \"visatype\", \"airline\")"
   ]
  },
  {
   "cell_type": "code",
   "execution_count": 50,
   "metadata": {},
   "outputs": [
    {
     "data": {
      "application/vnd.jupyter.widget-view+json": {
       "model_id": "35d8db7354ca433396608e66fbf40227",
       "version_major": 2,
       "version_minor": 0
      },
      "text/plain": [
       "VBox()"
      ]
     },
     "metadata": {},
     "output_type": "display_data"
    },
    {
     "data": {
      "application/vnd.jupyter.widget-view+json": {
       "model_id": "",
       "version_major": 2,
       "version_minor": 0
      },
      "text/plain": [
       "FloatProgress(value=0.0, bar_style='info', description='Progress:', layout=Layout(height='25px', width='50%'),…"
      ]
     },
     "metadata": {},
     "output_type": "display_data"
    },
    {
     "name": "stdout",
     "output_type": "stream",
     "text": [
      "+---------+------+------+------+------+-------+-------+-------+-------+------+--------+-------+\n",
      "|    cicid| i94yr|i94mon|i94cit|i94res|i94port|arrdate|i94visa|biryear|gender|visatype|airline|\n",
      "+---------+------+------+------+------+-------+-------+-------+-------+------+--------+-------+\n",
      "|1817663.0|2016.0|   4.0| 148.0| 131.0|    SFR|20554.0|    2.0|   1993|     F|      WT|     LX|\n",
      "|1817664.0|2016.0|   4.0| 148.0| 131.0|    SFR|20554.0|    1.0|   1987|     M|      WB|     LX|\n",
      "|1817665.0|2016.0|   4.0| 148.0| 131.0|    SFR|20554.0|    1.0|   1969|     M|      WB|     LX|\n",
      "|1817666.0|2016.0|   4.0| 148.0| 131.0|    SFR|20554.0|    2.0|   1979|     F|      WT|     LX|\n",
      "|1817667.0|2016.0|   4.0| 148.0| 131.0|    SFR|20554.0|    2.0|   1975|     M|      WT|     LX|\n",
      "+---------+------+------+------+------+-------+-------+-------+-------+------+--------+-------+\n",
      "only showing top 5 rows"
     ]
    }
   ],
   "source": [
    "immigrants = immigrants.withColumn(\"biryear\", immigrants[\"biryear\"].cast(IntegerType()))\n",
    "immigrants.show(5)"
   ]
  },
  {
   "cell_type": "code",
   "execution_count": 51,
   "metadata": {},
   "outputs": [
    {
     "data": {
      "application/vnd.jupyter.widget-view+json": {
       "model_id": "be8d6c83476e48419db5ed5a491c7ecf",
       "version_major": 2,
       "version_minor": 0
      },
      "text/plain": [
       "VBox()"
      ]
     },
     "metadata": {},
     "output_type": "display_data"
    },
    {
     "data": {
      "application/vnd.jupyter.widget-view+json": {
       "model_id": "",
       "version_major": 2,
       "version_minor": 0
      },
      "text/plain": [
       "FloatProgress(value=0.0, bar_style='info', description='Progress:', layout=Layout(height='25px', width='50%'),…"
      ]
     },
     "metadata": {},
     "output_type": "display_data"
    }
   ],
   "source": [
    "Schema_country = R([\n",
    "    Fld(\"id\",Str()),\n",
    "    Fld(\"country\",Str())\n",
    "    ])\n"
   ]
  },
  {
   "cell_type": "code",
   "execution_count": 52,
   "metadata": {},
   "outputs": [
    {
     "data": {
      "application/vnd.jupyter.widget-view+json": {
       "model_id": "dd2657b92f614ce8877d9e8752c99aa2",
       "version_major": 2,
       "version_minor": 0
      },
      "text/plain": [
       "VBox()"
      ]
     },
     "metadata": {},
     "output_type": "display_data"
    },
    {
     "data": {
      "application/vnd.jupyter.widget-view+json": {
       "model_id": "",
       "version_major": 2,
       "version_minor": 0
      },
      "text/plain": [
       "FloatProgress(value=0.0, bar_style='info', description='Progress:', layout=Layout(height='25px', width='50%'),…"
      ]
     },
     "metadata": {},
     "output_type": "display_data"
    }
   ],
   "source": [
    "country_dict=spark.read.csv(\n",
    "    \"s3://immigration-us-1/raw_data/country_dict.csv\", header=True, mode=\"DROPMALFORMED\", sep=\"=\",schema=Schema_country)"
   ]
  },
  {
   "cell_type": "code",
   "execution_count": 53,
   "metadata": {},
   "outputs": [
    {
     "data": {
      "application/vnd.jupyter.widget-view+json": {
       "model_id": "5316ea83c0e24c6a96a1715664e504a9",
       "version_major": 2,
       "version_minor": 0
      },
      "text/plain": [
       "VBox()"
      ]
     },
     "metadata": {},
     "output_type": "display_data"
    },
    {
     "data": {
      "application/vnd.jupyter.widget-view+json": {
       "model_id": "",
       "version_major": 2,
       "version_minor": 0
      },
      "text/plain": [
       "FloatProgress(value=0.0, bar_style='info', description='Progress:', layout=Layout(height='25px', width='50%'),…"
      ]
     },
     "metadata": {},
     "output_type": "display_data"
    },
    {
     "name": "stdout",
     "output_type": "stream",
     "text": [
      "+-------+---------------+\n",
      "|     id|        country|\n",
      "+-------+---------------+\n",
      "|   236 |  'AFGHANISTAN'|\n",
      "|   101 |      'ALBANIA'|\n",
      "|   316 |      'ALGERIA'|\n",
      "|   102 |      'ANDORRA'|\n",
      "|   324 |       'ANGOLA'|\n",
      "+-------+---------------+\n",
      "only showing top 5 rows"
     ]
    }
   ],
   "source": [
    "country_dict.show(5)"
   ]
  },
  {
   "cell_type": "code",
   "execution_count": 54,
   "metadata": {},
   "outputs": [
    {
     "data": {
      "application/vnd.jupyter.widget-view+json": {
       "model_id": "40bc1f36b9b9443ba74fd05ff5f45080",
       "version_major": 2,
       "version_minor": 0
      },
      "text/plain": [
       "VBox()"
      ]
     },
     "metadata": {},
     "output_type": "display_data"
    },
    {
     "data": {
      "application/vnd.jupyter.widget-view+json": {
       "model_id": "",
       "version_major": 2,
       "version_minor": 0
      },
      "text/plain": [
       "FloatProgress(value=0.0, bar_style='info', description='Progress:', layout=Layout(height='25px', width='50%'),…"
      ]
     },
     "metadata": {},
     "output_type": "display_data"
    }
   ],
   "source": [
    "spaceDeleteUDF = udf(lambda s: s.replace(\" \", \"\"), Str())\n",
    "ampesandDeleteUDF = udf(lambda s: s.replace(\"'\", \"\"), Str())"
   ]
  },
  {
   "cell_type": "code",
   "execution_count": 55,
   "metadata": {},
   "outputs": [
    {
     "data": {
      "application/vnd.jupyter.widget-view+json": {
       "model_id": "427c26e0cfa4455286f69191aad5eb01",
       "version_major": 2,
       "version_minor": 0
      },
      "text/plain": [
       "VBox()"
      ]
     },
     "metadata": {},
     "output_type": "display_data"
    },
    {
     "data": {
      "application/vnd.jupyter.widget-view+json": {
       "model_id": "",
       "version_major": 2,
       "version_minor": 0
      },
      "text/plain": [
       "FloatProgress(value=0.0, bar_style='info', description='Progress:', layout=Layout(height='25px', width='50%'),…"
      ]
     },
     "metadata": {},
     "output_type": "display_data"
    },
    {
     "name": "stdout",
     "output_type": "stream",
     "text": [
      "DataFrame[id: string, country: string]"
     ]
    }
   ],
   "source": [
    "country_dict.withColumn(\"id\", spaceDeleteUDF(\"id\"))\n",
    "country_dict.withColumn(\"country\", spaceDeleteUDF(\"country\"))"
   ]
  },
  {
   "cell_type": "code",
   "execution_count": 56,
   "metadata": {},
   "outputs": [
    {
     "data": {
      "application/vnd.jupyter.widget-view+json": {
       "model_id": "4bca3ff9d8d5472396feb6d2807b8e66",
       "version_major": 2,
       "version_minor": 0
      },
      "text/plain": [
       "VBox()"
      ]
     },
     "metadata": {},
     "output_type": "display_data"
    },
    {
     "data": {
      "application/vnd.jupyter.widget-view+json": {
       "model_id": "",
       "version_major": 2,
       "version_minor": 0
      },
      "text/plain": [
       "FloatProgress(value=0.0, bar_style='info', description='Progress:', layout=Layout(height='25px', width='50%'),…"
      ]
     },
     "metadata": {},
     "output_type": "display_data"
    },
    {
     "name": "stdout",
     "output_type": "stream",
     "text": [
      "[Row(id='   236 ', country=\"  'AFGHANISTAN'\"), Row(id='   101 ', country=\"  'ALBANIA'\"), Row(id='   316 ', country=\"  'ALGERIA'\"), Row(id='   102 ', country=\"  'ANDORRA'\"), Row(id='   324 ', country=\"  'ANGOLA'\")]"
     ]
    }
   ],
   "source": [
    "country_dict.take(5)"
   ]
  },
  {
   "cell_type": "code",
   "execution_count": 57,
   "metadata": {},
   "outputs": [
    {
     "data": {
      "application/vnd.jupyter.widget-view+json": {
       "model_id": "02ea70852c634ac1b938e6f8833ab605",
       "version_major": 2,
       "version_minor": 0
      },
      "text/plain": [
       "VBox()"
      ]
     },
     "metadata": {},
     "output_type": "display_data"
    },
    {
     "data": {
      "application/vnd.jupyter.widget-view+json": {
       "model_id": "",
       "version_major": 2,
       "version_minor": 0
      },
      "text/plain": [
       "FloatProgress(value=0.0, bar_style='info', description='Progress:', layout=Layout(height='25px', width='50%'),…"
      ]
     },
     "metadata": {},
     "output_type": "display_data"
    },
    {
     "name": "stdout",
     "output_type": "stream",
     "text": [
      "+---------+------+------+------+-------+-------+-------+-------+------+--------+-------+------------+\n",
      "|    cicid| i94yr|i94mon|i94res|i94port|arrdate|i94visa|biryear|gender|visatype|airline| cit_country|\n",
      "+---------+------+------+------+-------+-------+-------+-------+------+--------+-------+------------+\n",
      "|1859625.0|2016.0|   4.0| 299.0|    LOS|20554.0|    1.0|   1972|  null|      B1|     KE|  'MONGOLIA'|\n",
      "|1859626.0|2016.0|   4.0| 299.0|    LOS|20554.0|    1.0|   1976|  null|      B1|     KE|  'MONGOLIA'|\n",
      "|1859627.0|2016.0|   4.0| 299.0|    CHI|20554.0|    1.0|   1968|  null|      B1|     AB|  'MONGOLIA'|\n",
      "|1859628.0|2016.0|   4.0| 299.0|    SFR|20554.0|    3.0|   1989|     F|      F1|     UA|  'MONGOLIA'|\n",
      "|1859629.0|2016.0|   4.0| 299.0|    SFR|20554.0|    3.0|   2011|     M|      F2|     UA|  'MONGOLIA'|\n",
      "|1859630.0|2016.0|   4.0| 299.0|    LVG|20554.0|    1.0|   1966|     M|      B1|     KE|  'MONGOLIA'|\n",
      "|1859633.0|2016.0|   4.0| 299.0|    DAL|20554.0|    2.0|   1965|     M|      B2|     KE|  'MONGOLIA'|\n",
      "|1859635.0|2016.0|   4.0| 299.0|    WAS|20554.0|    1.0|   1988|     F|      B1|     KE|  'MONGOLIA'|\n",
      "|1859639.0|2016.0|   4.0| 299.0|    LVG|20554.0|    1.0|   1971|     F|      B1|     KE|  'MONGOLIA'|\n",
      "|1859640.0|2016.0|   4.0| 299.0|    LVG|20554.0|    1.0|   1975|     F|      B1|     KE|  'MONGOLIA'|\n",
      "|1859641.0|2016.0|   4.0| 299.0|    LVG|20554.0|    2.0|   1987|     F|      B2|     KE|  'MONGOLIA'|\n",
      "|1859642.0|2016.0|   4.0| 299.0|    CHI|20554.0|    2.0|   1949|     M|      B2|     KE|  'MONGOLIA'|\n",
      "|1859643.0|2016.0|   4.0| 299.0|    SFR|20554.0|    2.0|   1993|     M|      B2|     UA|  'MONGOLIA'|\n",
      "|1859644.0|2016.0|   4.0| 299.0|    SFR|20554.0|    1.0|   1982|     M|      B1|     UA|  'MONGOLIA'|\n",
      "|1859645.0|2016.0|   4.0| 299.0|    SFR|20554.0|    1.0|   1993|     M|      B1|     UA|  'MONGOLIA'|\n",
      "|1859646.0|2016.0|   4.0| 299.0|    SFR|20554.0|    1.0|   1985|     M|      B1|     UA|  'MONGOLIA'|\n",
      "|1859647.0|2016.0|   4.0| 299.0|    SFR|20554.0|    3.0|   1986|     M|      F1|     UA|  'MONGOLIA'|\n",
      "|2048996.0|2016.0|   4.0| 299.0|    SFR|20555.0|    2.0|   1977|     F|      B2|     UA|  'MONGOLIA'|\n",
      "|2048997.0|2016.0|   4.0| 299.0|    SFR|20555.0|    2.0|   1977|     M|      B2|     KE|  'MONGOLIA'|\n",
      "|2048999.0|2016.0|   4.0| 299.0|    ATL|20555.0|    3.0|   1998|     M|      F1|     KE|  'MONGOLIA'|\n",
      "+---------+------+------+------+-------+-------+-------+-------+------+--------+-------+------------+\n",
      "only showing top 20 rows"
     ]
    }
   ],
   "source": [
    "immigrants = immigrants.join(country_dict, immigrants.i94cit == country_dict.id,how='right') \n",
    "immigrants=immigrants.withColumnRenamed(\"country\", \"cit_country\")\n",
    "immigrants=immigrants.drop('id','i94cit')\n",
    "immigrants.show()"
   ]
  },
  {
   "cell_type": "code",
   "execution_count": 58,
   "metadata": {},
   "outputs": [
    {
     "data": {
      "application/vnd.jupyter.widget-view+json": {
       "model_id": "4cebfe9cbb964f368b27df3ef5266ee5",
       "version_major": 2,
       "version_minor": 0
      },
      "text/plain": [
       "VBox()"
      ]
     },
     "metadata": {},
     "output_type": "display_data"
    },
    {
     "data": {
      "application/vnd.jupyter.widget-view+json": {
       "model_id": "",
       "version_major": 2,
       "version_minor": 0
      },
      "text/plain": [
       "FloatProgress(value=0.0, bar_style='info', description='Progress:', layout=Layout(height='25px', width='50%'),…"
      ]
     },
     "metadata": {},
     "output_type": "display_data"
    },
    {
     "name": "stdout",
     "output_type": "stream",
     "text": [
      "+---------+------+------+-------+-------+-------+-------+------+--------+-------+------------+------------+\n",
      "|    cicid| i94yr|i94mon|i94port|arrdate|i94visa|biryear|gender|visatype|airline| cit_country| res_country|\n",
      "+---------+------+------+-------+-------+-------+-------+------+--------+-------+------------+------------+\n",
      "|5761447.0|2016.0|   4.0|    LOS|20574.0|    2.0|   1972|     F|      B2|     KE|  'MONGOLIA'|  'MONGOLIA'|\n",
      "|5761448.0|2016.0|   4.0|    CHI|20574.0|    2.0|   1974|     F|      B2|     SK|  'MONGOLIA'|  'MONGOLIA'|\n",
      "|5761451.0|2016.0|   4.0|    WAS|20574.0|    3.0|   1982|     M|      F2|     UA|  'MONGOLIA'|  'MONGOLIA'|\n",
      "|5761452.0|2016.0|   4.0|    WAS|20574.0|    2.0|   1990|     F|      B2|     UA|  'MONGOLIA'|  'MONGOLIA'|\n",
      "|5761453.0|2016.0|   4.0|    WAS|20574.0|    1.0|   1966|     M|      B1|     KE|  'MONGOLIA'|  'MONGOLIA'|\n",
      "|5761454.0|2016.0|   4.0|    WAS|20574.0|    2.0|   1950|     F|      B2|     KE|  'MONGOLIA'|  'MONGOLIA'|\n",
      "|5761455.0|2016.0|   4.0|    WAS|20574.0|    2.0|   1970|     F|      B2|     KE|  'MONGOLIA'|  'MONGOLIA'|\n",
      "|5761458.0|2016.0|   4.0|    WAS|20574.0|    1.0|   1976|     M|      B1|     KE|  'MONGOLIA'|  'MONGOLIA'|\n",
      "|5761459.0|2016.0|   4.0|    LOS|20574.0|    1.0|   1989|     F|      E2|     KE|  'MONGOLIA'|  'MONGOLIA'|\n",
      "|5761460.0|2016.0|   4.0|    LOS|20574.0|    2.0|   1996|     F|      B2|     KE|  'MONGOLIA'|  'MONGOLIA'|\n",
      "|5761461.0|2016.0|   4.0|    LOS|20574.0|    2.0|   1955|     M|      B2|     KE|  'MONGOLIA'|  'MONGOLIA'|\n",
      "|5761462.0|2016.0|   4.0|    LOS|20574.0|    2.0|   1957|     F|      B2|     KE|  'MONGOLIA'|  'MONGOLIA'|\n",
      "|5761463.0|2016.0|   4.0|    LOS|20574.0|    2.0|   1941|     F|      B2|     KE|  'MONGOLIA'|  'MONGOLIA'|\n",
      "|5761464.0|2016.0|   4.0|    CHI|20574.0|    2.0|   1972|     M|      B2|     KE|  'MONGOLIA'|  'MONGOLIA'|\n",
      "|5761465.0|2016.0|   4.0|    CHI|20574.0|    2.0|   1975|     F|      B2|     KE|  'MONGOLIA'|  'MONGOLIA'|\n",
      "|5761466.0|2016.0|   4.0|    CHI|20574.0|    2.0|   1969|     M|      B2|     KE|  'MONGOLIA'|  'MONGOLIA'|\n",
      "|5761467.0|2016.0|   4.0|    SFR|20574.0|    1.0|   1985|     F|      B1|     UA|  'MONGOLIA'|  'MONGOLIA'|\n",
      "|5761468.0|2016.0|   4.0|    SFR|20574.0|    2.0|   1957|     F|      B2|     KE|  'MONGOLIA'|  'MONGOLIA'|\n",
      "|5761469.0|2016.0|   4.0|    SFR|20574.0|    3.0|   1989|     F|      F1|     UA|  'MONGOLIA'|  'MONGOLIA'|\n",
      "|5761470.0|2016.0|   4.0|    SFR|20574.0|    2.0|   1986|     F|      B2|     UA|  'MONGOLIA'|  'MONGOLIA'|\n",
      "+---------+------+------+-------+-------+-------+-------+------+--------+-------+------------+------------+\n",
      "only showing top 20 rows"
     ]
    }
   ],
   "source": [
    "immigrants = immigrants.join(country_dict, immigrants.i94res == country_dict.id,how='right') \n",
    "immigrants=immigrants.withColumnRenamed(\"country\", \"res_country\")\n",
    "immigrants=immigrants.drop('id','i94res')\n",
    "immigrants.show()"
   ]
  },
  {
   "cell_type": "code",
   "execution_count": 59,
   "metadata": {},
   "outputs": [
    {
     "data": {
      "application/vnd.jupyter.widget-view+json": {
       "model_id": "bd837cd951ea4cad824d5c2f1025db42",
       "version_major": 2,
       "version_minor": 0
      },
      "text/plain": [
       "VBox()"
      ]
     },
     "metadata": {},
     "output_type": "display_data"
    },
    {
     "data": {
      "application/vnd.jupyter.widget-view+json": {
       "model_id": "",
       "version_major": 2,
       "version_minor": 0
      },
      "text/plain": [
       "FloatProgress(value=0.0, bar_style='info', description='Progress:', layout=Layout(height='25px', width='50%'),…"
      ]
     },
     "metadata": {},
     "output_type": "display_data"
    }
   ],
   "source": [
    "Schema_Visa = R([\n",
    "    Fld(\"id\",Str()),\n",
    "    Fld(\"Visa_Type\",Str())\n",
    "    ])\n",
    "visa_dict=spark.read.csv(\n",
    "    \"s3://immigration-us-1/raw_data/visa_dict.csv\", header=False, mode=\"DROPMALFORMED\",sep=\"=\", schema=Schema_Visa)   "
   ]
  },
  {
   "cell_type": "code",
   "execution_count": 60,
   "metadata": {},
   "outputs": [
    {
     "data": {
      "application/vnd.jupyter.widget-view+json": {
       "model_id": "35f8893fb5be44c7973df690a3472a13",
       "version_major": 2,
       "version_minor": 0
      },
      "text/plain": [
       "VBox()"
      ]
     },
     "metadata": {},
     "output_type": "display_data"
    },
    {
     "data": {
      "application/vnd.jupyter.widget-view+json": {
       "model_id": "",
       "version_major": 2,
       "version_minor": 0
      },
      "text/plain": [
       "FloatProgress(value=0.0, bar_style='info', description='Progress:', layout=Layout(height='25px', width='50%'),…"
      ]
     },
     "metadata": {},
     "output_type": "display_data"
    },
    {
     "name": "stdout",
     "output_type": "stream",
     "text": [
      "+---+---------+\n",
      "| id|Visa_Type|\n",
      "+---+---------+\n",
      "| 1 | Business|\n",
      "| 2 | Pleasure|\n",
      "| 3 |  Student|\n",
      "+---+---------+"
     ]
    }
   ],
   "source": [
    "visa_dict.show()"
   ]
  },
  {
   "cell_type": "code",
   "execution_count": 61,
   "metadata": {},
   "outputs": [
    {
     "data": {
      "application/vnd.jupyter.widget-view+json": {
       "model_id": "1a07cdff1aca44e7be4c52167f40a880",
       "version_major": 2,
       "version_minor": 0
      },
      "text/plain": [
       "VBox()"
      ]
     },
     "metadata": {},
     "output_type": "display_data"
    },
    {
     "data": {
      "application/vnd.jupyter.widget-view+json": {
       "model_id": "",
       "version_major": 2,
       "version_minor": 0
      },
      "text/plain": [
       "FloatProgress(value=0.0, bar_style='info', description='Progress:', layout=Layout(height='25px', width='50%'),…"
      ]
     },
     "metadata": {},
     "output_type": "display_data"
    },
    {
     "name": "stdout",
     "output_type": "stream",
     "text": [
      "+---------+------+------+-------+-------+-------+------+--------+-------+-----------+-------------+---------+\n",
      "|    cicid| i94yr|i94mon|i94port|arrdate|biryear|gender|visatype|airline|cit_country|  res_country|Visa_Type|\n",
      "+---------+------+------+-------+-------+-------+------+--------+-------+-----------+-------------+---------+\n",
      "|5748517.0|2016.0|   4.0|    LOS|20574.0|   1976|     F|      B1|     QF|    'CHINA'|  'AUSTRALIA'| Business|\n",
      "|5748518.0|2016.0|   4.0|    LOS|20574.0|   1984|     F|      B1|     VA|    'CHINA'|  'AUSTRALIA'| Business|\n",
      "|5748519.0|2016.0|   4.0|    LOS|20574.0|   1987|     M|      B1|     DL|    'CHINA'|  'AUSTRALIA'| Business|\n",
      "|5748520.0|2016.0|   4.0|    LOS|20574.0|   1987|     F|      B1|     DL|    'CHINA'|  'AUSTRALIA'| Business|\n",
      "|5748521.0|2016.0|   4.0|    LOS|20574.0|   1988|     M|      B1|     DL|    'CHINA'|  'AUSTRALIA'| Business|\n",
      "|5748889.0|2016.0|   4.0|    ORL|20574.0|   1988|     M|      B1|     B6|    'CHINA'|   'COLOMBIA'| Business|\n",
      "|5748904.0|2016.0|   4.0|    HOU|20574.0|   1987|     M|      B1|     AF|     'IRAN'|      'ITALY'| Business|\n",
      "|5748905.0|2016.0|   4.0|    WAS|20574.0|   1983|     M|      B1|     LH|     'IRAN'|    'GERMANY'| Business|\n",
      "|5748910.0|2016.0|   4.0|    PHI|20574.0|   1976|     M|      B1|     AA|     'IRAN'|       'IRAN'| Business|\n",
      "|5748926.0|2016.0|   4.0|    HOU|20574.0|   1976|     M|      B1|     QR|     'IRAN'|       'IRAN'| Business|\n",
      "|5748932.0|2016.0|   4.0|    SEA|20574.0|   1985|     F|      B1|     BA|     'IRAN'|       'IRAN'| Business|\n",
      "|5748936.0|2016.0|   4.0|    MON|20574.0|   1974|     M|      B1|     EV|     'IRAN'|       'IRAN'| Business|\n",
      "|5748953.0|2016.0|   4.0|    SFR|20574.0|   1967|     F|      B1|     QF|     'IRAN'|  'AUSTRALIA'| Business|\n",
      "|5748964.0|2016.0|   4.0|    DAL|20574.0|   1972|  null|      B1|     QR|     'IRAQ'|       'IRAQ'| Business|\n",
      "|5748967.0|2016.0|   4.0|    WAS|20574.0|   1982|     M|      B1|     TK|     'IRAQ'|       'IRAQ'| Business|\n",
      "|5748968.0|2016.0|   4.0|    WAS|20574.0|   1947|  null|      B1|     TK|     'IRAQ'|       'IRAQ'| Business|\n",
      "|5748969.0|2016.0|   4.0|    HOU|20574.0|   1967|     M|      B1|     EK|     'IRAQ'|       'IRAQ'| Business|\n",
      "|5748970.0|2016.0|   4.0|    LOS|20574.0|   1980|  null|      B1|     EK|     'IRAQ'|       'IRAQ'| Business|\n",
      "|5748972.0|2016.0|   4.0|    LOS|20574.0|   1982|  null|      B1|     EK|     'IRAQ'|       'IRAQ'| Business|\n",
      "|5748974.0|2016.0|   4.0|    SFR|20574.0|   1983|     M|      B1|     EK|     'IRAQ'|       'IRAQ'| Business|\n",
      "+---------+------+------+-------+-------+-------+------+--------+-------+-----------+-------------+---------+\n",
      "only showing top 20 rows"
     ]
    }
   ],
   "source": [
    "immigrants = immigrants.join(visa_dict, immigrants.i94visa == visa_dict.id,how='right') \n",
    "immigrants=immigrants.drop('id','i94visa')\n",
    "immigrants.show()"
   ]
  },
  {
   "cell_type": "code",
   "execution_count": 17,
   "metadata": {},
   "outputs": [
    {
     "data": {
      "application/vnd.jupyter.widget-view+json": {
       "model_id": "687e7c1398dc4c5fad91a20d6ed9627f",
       "version_major": 2,
       "version_minor": 0
      },
      "text/plain": [
       "VBox()"
      ]
     },
     "metadata": {},
     "output_type": "display_data"
    },
    {
     "data": {
      "application/vnd.jupyter.widget-view+json": {
       "model_id": "",
       "version_major": 2,
       "version_minor": 0
      },
      "text/plain": [
       "FloatProgress(value=0.0, bar_style='info', description='Progress:', layout=Layout(height='25px', width='50%'),…"
      ]
     },
     "metadata": {},
     "output_type": "display_data"
    }
   ],
   "source": [
    "#immigrants.createOrReplaceTempView(\"immigrants\")"
   ]
  },
  {
   "cell_type": "code",
   "execution_count": 18,
   "metadata": {},
   "outputs": [
    {
     "data": {
      "application/vnd.jupyter.widget-view+json": {
       "model_id": "6b1dbf4a3e934f78a6fcc01b2faa077a",
       "version_major": 2,
       "version_minor": 0
      },
      "text/plain": [
       "VBox()"
      ]
     },
     "metadata": {},
     "output_type": "display_data"
    },
    {
     "data": {
      "application/vnd.jupyter.widget-view+json": {
       "model_id": "",
       "version_major": 2,
       "version_minor": 0
      },
      "text/plain": [
       "FloatProgress(value=0.0, bar_style='info', description='Progress:', layout=Layout(height='25px', width='50%'),…"
      ]
     },
     "metadata": {},
     "output_type": "display_data"
    }
   ],
   "source": [
    "#immigrants.createOrReplaceTempView(\"immigrants\")\n",
    "#immigrants = spark.sql(\"SELECT * FROM immigrants\")\n",
    "#immigrants=immigrants.drop('arrdate')"
   ]
  },
  {
   "cell_type": "code",
   "execution_count": 19,
   "metadata": {},
   "outputs": [
    {
     "data": {
      "application/vnd.jupyter.widget-view+json": {
       "model_id": "9476b10e2c614fe48482bf986d4d96ab",
       "version_major": 2,
       "version_minor": 0
      },
      "text/plain": [
       "VBox()"
      ]
     },
     "metadata": {},
     "output_type": "display_data"
    },
    {
     "data": {
      "application/vnd.jupyter.widget-view+json": {
       "model_id": "",
       "version_major": 2,
       "version_minor": 0
      },
      "text/plain": [
       "FloatProgress(value=0.0, bar_style='info', description='Progress:', layout=Layout(height='25px', width='50%'),…"
      ]
     },
     "metadata": {},
     "output_type": "display_data"
    }
   ],
   "source": [
    "#immigrants.show()"
   ]
  },
  {
   "cell_type": "code",
   "execution_count": 65,
   "metadata": {},
   "outputs": [
    {
     "data": {
      "application/vnd.jupyter.widget-view+json": {
       "model_id": "ca3114f92f9348898690da4614351872",
       "version_major": 2,
       "version_minor": 0
      },
      "text/plain": [
       "VBox()"
      ]
     },
     "metadata": {},
     "output_type": "display_data"
    },
    {
     "data": {
      "application/vnd.jupyter.widget-view+json": {
       "model_id": "",
       "version_major": 2,
       "version_minor": 0
      },
      "text/plain": [
       "FloatProgress(value=0.0, bar_style='info', description='Progress:', layout=Layout(height='25px', width='50%'),…"
      ]
     },
     "metadata": {},
     "output_type": "display_data"
    }
   ],
   "source": [
    "#immigrants = immigrants.withColumn(\"arrdate\", immigrants[\"arrdate\"].cast(IntegerType()))"
   ]
  },
  {
   "cell_type": "code",
   "execution_count": 62,
   "metadata": {},
   "outputs": [
    {
     "data": {
      "application/vnd.jupyter.widget-view+json": {
       "model_id": "17c3f50ea2ee42fc9aa2586bc0ed9d45",
       "version_major": 2,
       "version_minor": 0
      },
      "text/plain": [
       "VBox()"
      ]
     },
     "metadata": {},
     "output_type": "display_data"
    },
    {
     "data": {
      "application/vnd.jupyter.widget-view+json": {
       "model_id": "",
       "version_major": 2,
       "version_minor": 0
      },
      "text/plain": [
       "FloatProgress(value=0.0, bar_style='info', description='Progress:', layout=Layout(height='25px', width='50%'),…"
      ]
     },
     "metadata": {},
     "output_type": "display_data"
    },
    {
     "name": "stdout",
     "output_type": "stream",
     "text": [
      "+---------+------+------+-------+-------+-------+------+--------+-------+-----------+-------------+---------+\n",
      "|    cicid| i94yr|i94mon|i94port|arrdate|biryear|gender|visatype|airline|cit_country|  res_country|Visa_Type|\n",
      "+---------+------+------+-------+-------+-------+------+--------+-------+-----------+-------------+---------+\n",
      "|5748517.0|2016.0|   4.0|    LOS|20574.0|   1976|     F|      B1|     QF|    'CHINA'|  'AUSTRALIA'| Business|\n",
      "|5748518.0|2016.0|   4.0|    LOS|20574.0|   1984|     F|      B1|     VA|    'CHINA'|  'AUSTRALIA'| Business|\n",
      "|5748519.0|2016.0|   4.0|    LOS|20574.0|   1987|     M|      B1|     DL|    'CHINA'|  'AUSTRALIA'| Business|\n",
      "|5748520.0|2016.0|   4.0|    LOS|20574.0|   1987|     F|      B1|     DL|    'CHINA'|  'AUSTRALIA'| Business|\n",
      "|5748521.0|2016.0|   4.0|    LOS|20574.0|   1988|     M|      B1|     DL|    'CHINA'|  'AUSTRALIA'| Business|\n",
      "|5748889.0|2016.0|   4.0|    ORL|20574.0|   1988|     M|      B1|     B6|    'CHINA'|   'COLOMBIA'| Business|\n",
      "|5748904.0|2016.0|   4.0|    HOU|20574.0|   1987|     M|      B1|     AF|     'IRAN'|      'ITALY'| Business|\n",
      "|5748905.0|2016.0|   4.0|    WAS|20574.0|   1983|     M|      B1|     LH|     'IRAN'|    'GERMANY'| Business|\n",
      "|5748910.0|2016.0|   4.0|    PHI|20574.0|   1976|     M|      B1|     AA|     'IRAN'|       'IRAN'| Business|\n",
      "|5748926.0|2016.0|   4.0|    HOU|20574.0|   1976|     M|      B1|     QR|     'IRAN'|       'IRAN'| Business|\n",
      "|5748932.0|2016.0|   4.0|    SEA|20574.0|   1985|     F|      B1|     BA|     'IRAN'|       'IRAN'| Business|\n",
      "|5748936.0|2016.0|   4.0|    MON|20574.0|   1974|     M|      B1|     EV|     'IRAN'|       'IRAN'| Business|\n",
      "|5748953.0|2016.0|   4.0|    SFR|20574.0|   1967|     F|      B1|     QF|     'IRAN'|  'AUSTRALIA'| Business|\n",
      "|5748964.0|2016.0|   4.0|    DAL|20574.0|   1972|  null|      B1|     QR|     'IRAQ'|       'IRAQ'| Business|\n",
      "|5748967.0|2016.0|   4.0|    WAS|20574.0|   1982|     M|      B1|     TK|     'IRAQ'|       'IRAQ'| Business|\n",
      "|5748968.0|2016.0|   4.0|    WAS|20574.0|   1947|  null|      B1|     TK|     'IRAQ'|       'IRAQ'| Business|\n",
      "|5748969.0|2016.0|   4.0|    HOU|20574.0|   1967|     M|      B1|     EK|     'IRAQ'|       'IRAQ'| Business|\n",
      "|5748970.0|2016.0|   4.0|    LOS|20574.0|   1980|  null|      B1|     EK|     'IRAQ'|       'IRAQ'| Business|\n",
      "|5748972.0|2016.0|   4.0|    LOS|20574.0|   1982|  null|      B1|     EK|     'IRAQ'|       'IRAQ'| Business|\n",
      "|5748974.0|2016.0|   4.0|    SFR|20574.0|   1983|     M|      B1|     EK|     'IRAQ'|       'IRAQ'| Business|\n",
      "+---------+------+------+-------+-------+-------+------+--------+-------+-----------+-------------+---------+\n",
      "only showing top 20 rows"
     ]
    }
   ],
   "source": [
    "immigrants.show()"
   ]
  },
  {
   "cell_type": "code",
   "execution_count": 63,
   "metadata": {},
   "outputs": [
    {
     "data": {
      "application/vnd.jupyter.widget-view+json": {
       "model_id": "e92e67d9cc4f4985af68d95e0b54f4ab",
       "version_major": 2,
       "version_minor": 0
      },
      "text/plain": [
       "VBox()"
      ]
     },
     "metadata": {},
     "output_type": "display_data"
    },
    {
     "data": {
      "application/vnd.jupyter.widget-view+json": {
       "model_id": "",
       "version_major": 2,
       "version_minor": 0
      },
      "text/plain": [
       "FloatProgress(value=0.0, bar_style='info', description='Progress:', layout=Layout(height='25px', width='50%'),…"
      ]
     },
     "metadata": {},
     "output_type": "display_data"
    }
   ],
   "source": [
    "import datetime as dt\n",
    "def to_datetime(x):\n",
    "    try:\n",
    "        start = dt.datetime(1960, 1, 1).date()\n",
    "        return start + dt.timedelta(days=int(x))\n",
    "    except:\n",
    "        return None\n",
    "udf_to_datetime_sas = udf(lambda x: to_datetime(x), DateType())"
   ]
  },
  {
   "cell_type": "code",
   "execution_count": 64,
   "metadata": {},
   "outputs": [
    {
     "data": {
      "application/vnd.jupyter.widget-view+json": {
       "model_id": "0cd07a089e8a43138b738705bee8c6ba",
       "version_major": 2,
       "version_minor": 0
      },
      "text/plain": [
       "VBox()"
      ]
     },
     "metadata": {},
     "output_type": "display_data"
    },
    {
     "data": {
      "application/vnd.jupyter.widget-view+json": {
       "model_id": "",
       "version_major": 2,
       "version_minor": 0
      },
      "text/plain": [
       "FloatProgress(value=0.0, bar_style='info', description='Progress:', layout=Layout(height='25px', width='50%'),…"
      ]
     },
     "metadata": {},
     "output_type": "display_data"
    }
   ],
   "source": [
    "immigrants=immigrants.withColumn(\"arrdate\", udf_to_datetime_sas(\"arrdate\"))"
   ]
  },
  {
   "cell_type": "code",
   "execution_count": 65,
   "metadata": {},
   "outputs": [
    {
     "data": {
      "application/vnd.jupyter.widget-view+json": {
       "model_id": "1ac64e5686ed47ec9c005240d3c9809f",
       "version_major": 2,
       "version_minor": 0
      },
      "text/plain": [
       "VBox()"
      ]
     },
     "metadata": {},
     "output_type": "display_data"
    },
    {
     "data": {
      "application/vnd.jupyter.widget-view+json": {
       "model_id": "",
       "version_major": 2,
       "version_minor": 0
      },
      "text/plain": [
       "FloatProgress(value=0.0, bar_style='info', description='Progress:', layout=Layout(height='25px', width='50%'),…"
      ]
     },
     "metadata": {},
     "output_type": "display_data"
    },
    {
     "name": "stdout",
     "output_type": "stream",
     "text": [
      "+---------+------+------+-------+----------+-------+------+--------+-------+-----------+-------------+---------+\n",
      "|    cicid| i94yr|i94mon|i94port|   arrdate|biryear|gender|visatype|airline|cit_country|  res_country|Visa_Type|\n",
      "+---------+------+------+-------+----------+-------+------+--------+-------+-----------+-------------+---------+\n",
      "|5748517.0|2016.0|   4.0|    LOS|2016-04-30|   1976|     F|      B1|     QF|    'CHINA'|  'AUSTRALIA'| Business|\n",
      "|5748518.0|2016.0|   4.0|    LOS|2016-04-30|   1984|     F|      B1|     VA|    'CHINA'|  'AUSTRALIA'| Business|\n",
      "|5748519.0|2016.0|   4.0|    LOS|2016-04-30|   1987|     M|      B1|     DL|    'CHINA'|  'AUSTRALIA'| Business|\n",
      "|5748520.0|2016.0|   4.0|    LOS|2016-04-30|   1987|     F|      B1|     DL|    'CHINA'|  'AUSTRALIA'| Business|\n",
      "|5748521.0|2016.0|   4.0|    LOS|2016-04-30|   1988|     M|      B1|     DL|    'CHINA'|  'AUSTRALIA'| Business|\n",
      "|5748889.0|2016.0|   4.0|    ORL|2016-04-30|   1988|     M|      B1|     B6|    'CHINA'|   'COLOMBIA'| Business|\n",
      "|5748904.0|2016.0|   4.0|    HOU|2016-04-30|   1987|     M|      B1|     AF|     'IRAN'|      'ITALY'| Business|\n",
      "|5748905.0|2016.0|   4.0|    WAS|2016-04-30|   1983|     M|      B1|     LH|     'IRAN'|    'GERMANY'| Business|\n",
      "|5748910.0|2016.0|   4.0|    PHI|2016-04-30|   1976|     M|      B1|     AA|     'IRAN'|       'IRAN'| Business|\n",
      "|5748926.0|2016.0|   4.0|    HOU|2016-04-30|   1976|     M|      B1|     QR|     'IRAN'|       'IRAN'| Business|\n",
      "|5748932.0|2016.0|   4.0|    SEA|2016-04-30|   1985|     F|      B1|     BA|     'IRAN'|       'IRAN'| Business|\n",
      "|5748936.0|2016.0|   4.0|    MON|2016-04-30|   1974|     M|      B1|     EV|     'IRAN'|       'IRAN'| Business|\n",
      "|5748953.0|2016.0|   4.0|    SFR|2016-04-30|   1967|     F|      B1|     QF|     'IRAN'|  'AUSTRALIA'| Business|\n",
      "|5748964.0|2016.0|   4.0|    DAL|2016-04-30|   1972|  null|      B1|     QR|     'IRAQ'|       'IRAQ'| Business|\n",
      "|5748967.0|2016.0|   4.0|    WAS|2016-04-30|   1982|     M|      B1|     TK|     'IRAQ'|       'IRAQ'| Business|\n",
      "|5748968.0|2016.0|   4.0|    WAS|2016-04-30|   1947|  null|      B1|     TK|     'IRAQ'|       'IRAQ'| Business|\n",
      "|5748969.0|2016.0|   4.0|    HOU|2016-04-30|   1967|     M|      B1|     EK|     'IRAQ'|       'IRAQ'| Business|\n",
      "|5748970.0|2016.0|   4.0|    LOS|2016-04-30|   1980|  null|      B1|     EK|     'IRAQ'|       'IRAQ'| Business|\n",
      "|5748972.0|2016.0|   4.0|    LOS|2016-04-30|   1982|  null|      B1|     EK|     'IRAQ'|       'IRAQ'| Business|\n",
      "|5748974.0|2016.0|   4.0|    SFR|2016-04-30|   1983|     M|      B1|     EK|     'IRAQ'|       'IRAQ'| Business|\n",
      "+---------+------+------+-------+----------+-------+------+--------+-------+-----------+-------------+---------+\n",
      "only showing top 20 rows"
     ]
    }
   ],
   "source": [
    "immigrants.show()"
   ]
  },
  {
   "cell_type": "code",
   "execution_count": 66,
   "metadata": {},
   "outputs": [
    {
     "data": {
      "application/vnd.jupyter.widget-view+json": {
       "model_id": "3784224aff884f4687187785bb4d78e8",
       "version_major": 2,
       "version_minor": 0
      },
      "text/plain": [
       "VBox()"
      ]
     },
     "metadata": {},
     "output_type": "display_data"
    },
    {
     "data": {
      "application/vnd.jupyter.widget-view+json": {
       "model_id": "",
       "version_major": 2,
       "version_minor": 0
      },
      "text/plain": [
       "FloatProgress(value=0.0, bar_style='info', description='Progress:', layout=Layout(height='25px', width='50%'),…"
      ]
     },
     "metadata": {},
     "output_type": "display_data"
    }
   ],
   "source": [
    "immigrants = immigrants.withColumn(\"cicid\", immigrants[\"cicid\"].cast(IntegerType()))\n",
    "immigrants = immigrants.withColumn(\"i94yr\", immigrants[\"i94yr\"].cast(IntegerType()))\n",
    "immigrants = immigrants.withColumn(\"i94mon\", immigrants[\"i94mon\"].cast(IntegerType()))"
   ]
  },
  {
   "cell_type": "code",
   "execution_count": 67,
   "metadata": {},
   "outputs": [
    {
     "data": {
      "application/vnd.jupyter.widget-view+json": {
       "model_id": "ee921daa2fe64dcdafcc477a51ca48e6",
       "version_major": 2,
       "version_minor": 0
      },
      "text/plain": [
       "VBox()"
      ]
     },
     "metadata": {},
     "output_type": "display_data"
    },
    {
     "data": {
      "application/vnd.jupyter.widget-view+json": {
       "model_id": "",
       "version_major": 2,
       "version_minor": 0
      },
      "text/plain": [
       "FloatProgress(value=0.0, bar_style='info', description='Progress:', layout=Layout(height='25px', width='50%'),…"
      ]
     },
     "metadata": {},
     "output_type": "display_data"
    },
    {
     "name": "stdout",
     "output_type": "stream",
     "text": [
      "root\n",
      " |-- cicid: integer (nullable = true)\n",
      " |-- i94yr: integer (nullable = true)\n",
      " |-- i94mon: integer (nullable = true)\n",
      " |-- i94port: string (nullable = true)\n",
      " |-- arrdate: date (nullable = true)\n",
      " |-- biryear: integer (nullable = true)\n",
      " |-- gender: string (nullable = true)\n",
      " |-- visatype: string (nullable = true)\n",
      " |-- airline: string (nullable = true)\n",
      " |-- cit_country: string (nullable = true)\n",
      " |-- res_country: string (nullable = true)\n",
      " |-- Visa_Type: string (nullable = true)"
     ]
    }
   ],
   "source": [
    "immigrants.printSchema()"
   ]
  },
  {
   "cell_type": "code",
   "execution_count": 34,
   "metadata": {},
   "outputs": [
    {
     "data": {
      "application/vnd.jupyter.widget-view+json": {
       "model_id": "214ec9469a274b35a57c99f93869ddc2",
       "version_major": 2,
       "version_minor": 0
      },
      "text/plain": [
       "VBox()"
      ]
     },
     "metadata": {},
     "output_type": "display_data"
    },
    {
     "data": {
      "application/vnd.jupyter.widget-view+json": {
       "model_id": "",
       "version_major": 2,
       "version_minor": 0
      },
      "text/plain": [
       "FloatProgress(value=0.0, bar_style='info', description='Progress:', layout=Layout(height='25px', width='50%'),…"
      ]
     },
     "metadata": {},
     "output_type": "display_data"
    }
   ],
   "source": [
    "immigrants.write.parquet(\"s3://immigration-us-1/sas_data_ready_to_use\")"
   ]
  },
  {
   "cell_type": "code",
   "execution_count": 68,
   "metadata": {},
   "outputs": [
    {
     "data": {
      "application/vnd.jupyter.widget-view+json": {
       "model_id": "e509e1a4966b4dcea760268add6726ed",
       "version_major": 2,
       "version_minor": 0
      },
      "text/plain": [
       "VBox()"
      ]
     },
     "metadata": {},
     "output_type": "display_data"
    },
    {
     "data": {
      "application/vnd.jupyter.widget-view+json": {
       "model_id": "",
       "version_major": 2,
       "version_minor": 0
      },
      "text/plain": [
       "FloatProgress(value=0.0, bar_style='info', description='Progress:', layout=Layout(height='25px', width='50%'),…"
      ]
     },
     "metadata": {},
     "output_type": "display_data"
    },
    {
     "name": "stdout",
     "output_type": "stream",
     "text": [
      "2444372"
     ]
    }
   ],
   "source": [
    "immigrants.count()"
   ]
  },
  {
   "cell_type": "code",
   "execution_count": 69,
   "metadata": {},
   "outputs": [
    {
     "data": {
      "application/vnd.jupyter.widget-view+json": {
       "model_id": "119c15d605a04dba970c403305a36a6a",
       "version_major": 2,
       "version_minor": 0
      },
      "text/plain": [
       "VBox()"
      ]
     },
     "metadata": {},
     "output_type": "display_data"
    },
    {
     "data": {
      "application/vnd.jupyter.widget-view+json": {
       "model_id": "",
       "version_major": 2,
       "version_minor": 0
      },
      "text/plain": [
       "FloatProgress(value=0.0, bar_style='info', description='Progress:', layout=Layout(height='25px', width='50%'),…"
      ]
     },
     "metadata": {},
     "output_type": "display_data"
    }
   ],
   "source": [
    "imm=immigrants.limit(1000)"
   ]
  },
  {
   "cell_type": "code",
   "execution_count": 70,
   "metadata": {},
   "outputs": [
    {
     "data": {
      "application/vnd.jupyter.widget-view+json": {
       "model_id": "188cfc8180444666beae78a0accac675",
       "version_major": 2,
       "version_minor": 0
      },
      "text/plain": [
       "VBox()"
      ]
     },
     "metadata": {},
     "output_type": "display_data"
    },
    {
     "data": {
      "application/vnd.jupyter.widget-view+json": {
       "model_id": "",
       "version_major": 2,
       "version_minor": 0
      },
      "text/plain": [
       "FloatProgress(value=0.0, bar_style='info', description='Progress:', layout=Layout(height='25px', width='50%'),…"
      ]
     },
     "metadata": {},
     "output_type": "display_data"
    },
    {
     "name": "stdout",
     "output_type": "stream",
     "text": [
      "1000"
     ]
    }
   ],
   "source": [
    "imm.count()"
   ]
  },
  {
   "cell_type": "code",
   "execution_count": 33,
   "metadata": {},
   "outputs": [
    {
     "data": {
      "application/vnd.jupyter.widget-view+json": {
       "model_id": "6e3c8d0f40d74da59118f4a8286000d3",
       "version_major": 2,
       "version_minor": 0
      },
      "text/plain": [
       "VBox()"
      ]
     },
     "metadata": {},
     "output_type": "display_data"
    },
    {
     "data": {
      "application/vnd.jupyter.widget-view+json": {
       "model_id": "",
       "version_major": 2,
       "version_minor": 0
      },
      "text/plain": [
       "FloatProgress(value=0.0, bar_style='info', description='Progress:', layout=Layout(height='25px', width='50%'),…"
      ]
     },
     "metadata": {},
     "output_type": "display_data"
    }
   ],
   "source": [
    "imm.write.parquet(\"s3://immigration-us-1/_sas_data_ready_to_use\")"
   ]
  },
  {
   "cell_type": "markdown",
   "metadata": {},
   "source": [
    "## Final script."
   ]
  },
  {
   "cell_type": "code",
   "execution_count": 43,
   "metadata": {},
   "outputs": [
    {
     "data": {
      "application/vnd.jupyter.widget-view+json": {
       "model_id": "3e0c72722bc946abbab29b0c98e353ea",
       "version_major": 2,
       "version_minor": 0
      },
      "text/plain": [
       "VBox()"
      ]
     },
     "metadata": {},
     "output_type": "display_data"
    },
    {
     "data": {
      "application/vnd.jupyter.widget-view+json": {
       "model_id": "",
       "version_major": 2,
       "version_minor": 0
      },
      "text/plain": [
       "FloatProgress(value=0.0, bar_style='info', description='Progress:', layout=Layout(height='25px', width='50%'),…"
      ]
     },
     "metadata": {},
     "output_type": "display_data"
    },
    {
     "name": "stdout",
     "output_type": "stream",
     "text": [
      "+------+-----+------+-------+----------+-------+------+--------+-------+------------------+------------------+---------+\n",
      "| cicid|i94yr|i94mon|i94port|   arrdate|biryear|gender|visatype|airline|       cit_country|       res_country|Visa_Type|\n",
      "+------+-----+------+-------+----------+-------+------+--------+-------+------------------+------------------+---------+\n",
      "|459657| 2016|     4|    ATL|2016-04-03|   1972|     M|      WB|     BA|  'UNITED KINGDOM'|  'UNITED KINGDOM'| Business|\n",
      "|459658| 2016|     4|    ATL|2016-04-03|   1977|     M|      WB|     BA|  'UNITED KINGDOM'|  'UNITED KINGDOM'| Business|\n",
      "|459663| 2016|     4|    ATL|2016-04-03|   1945|     M|      WB|     DL|  'UNITED KINGDOM'|  'UNITED KINGDOM'| Business|\n",
      "|459665| 2016|     4|    ATL|2016-04-03|   1962|     M|      WB|     BA|  'UNITED KINGDOM'|  'UNITED KINGDOM'| Business|\n",
      "|459666| 2016|     4|    ATL|2016-04-03|   1965|     M|      WB|     BA|  'UNITED KINGDOM'|  'UNITED KINGDOM'| Business|\n",
      "|459667| 2016|     4|    ATL|2016-04-03|   1973|     M|      WB|     DL|  'UNITED KINGDOM'|  'UNITED KINGDOM'| Business|\n",
      "|459668| 2016|     4|    ATL|2016-04-03|   1979|     F|      WB|     DL|  'UNITED KINGDOM'|  'UNITED KINGDOM'| Business|\n",
      "|459669| 2016|     4|    ATL|2016-04-03|   1983|     F|      WB|     VS|  'UNITED KINGDOM'|  'UNITED KINGDOM'| Business|\n",
      "|459670| 2016|     4|    ATL|2016-04-03|   1966|     M|      WB|     DL|  'UNITED KINGDOM'|  'UNITED KINGDOM'| Business|\n",
      "|459676| 2016|     4|    ATL|2016-04-03|   1963|     M|      WB|     KL|  'UNITED KINGDOM'|  'UNITED KINGDOM'| Business|\n",
      "+------+-----+------+-------+----------+-------+------+--------+-------+------------------+------------------+---------+\n",
      "only showing top 10 rows"
     ]
    }
   ],
   "source": [
    "from pyspark.sql import SparkSession\n",
    "import  pyspark.sql.functions as F\n",
    "from pyspark.sql.functions import col, split, udf\n",
    "from pyspark.sql.types import StructType as R, StructField as Fld, DoubleType as Dbl, StringType as Str, IntegerType as Int, DateType as Date\n",
    "from pyspark.sql.types import StructType as R, StructField as Fld, DoubleType as Dbl, StringType as Str, IntegerType as Int, DateType as Date\n",
    "from pyspark.sql.types import IntegerType, DateType\n",
    "from pyspark.sql.functions import desc\n",
    "import datetime as dt\n",
    "\n",
    "def date_converter(x):\n",
    "    try:\n",
    "        temp = dt.datetime(1960, 1, 1).date()\n",
    "        return temp + dt.timedelta(days=int(x))\n",
    "    except:\n",
    "        return None\n",
    "\n",
    "    \n",
    "def immigration_etl(source=\"s3://immigration-us-1/sas_data\",\n",
    "                    destination=\"s3://immigration-us-1/sas_data_ready_to_use\",\n",
    "                    country_dict=\"s3://immigration-us-1/raw_data/country_dict.csv\",\n",
    "                    visa_dict=\"s3://immigration-us-1/raw_data/visa_dict.csv\"\n",
    "                   ):\n",
    "    # Local udfs\n",
    "    \n",
    "    spaceDeleteUDF = udf(lambda s: s.replace(\" \", \"\"), Str())\n",
    "    ampesandDeleteUDF = udf(lambda s: s.replace(\"'\", \"\"), Str())\n",
    "    udf_to_datetime_sas = udf(lambda x: date_converter(x), DateType())\n",
    "   \n",
    "    Schema_country = R([\n",
    "        Fld(\"id\",Str()),\n",
    "        Fld(\"country\",Str())\n",
    "        ])\n",
    "    Schema_Visa = R([\n",
    "        Fld(\"id\",Str()),\n",
    "        Fld(\"Visa_Type\",Str())\n",
    "        ])\n",
    "\n",
    "    df_spark=spark.read.parquet(source)\n",
    "    # Only immigrants from air \n",
    "    immigrants=df_spark.where(F.col(\"i94mode\")==1)\n",
    "    immigrants=immigrants.select(\"cicid\", \"i94yr\", \"i94mon\", \"i94cit\", \"i94res\", \"i94port\", \"arrdate\", \"i94visa\",  \"biryear\", \"gender\", \"visatype\", \"airline\")\n",
    "    country_dict=spark.read.csv(country_dict, header=True, mode=\"DROPMALFORMED\", sep=\"=\",schema=Schema_country)\n",
    "    \n",
    "    immigrants = immigrants.join(country_dict, immigrants.i94cit == country_dict.id,how='right') \n",
    "    immigrants=immigrants.withColumnRenamed(\"country\", \"cit_country\")\n",
    "    immigrants=immigrants.drop('id','i94cit')\n",
    "    \n",
    "    immigrants = immigrants.join(country_dict, immigrants.i94res == country_dict.id,how='right') \n",
    "    immigrants=immigrants.withColumnRenamed(\"country\", \"res_country\")\n",
    "    immigrants=immigrants.drop('id','i94res')\n",
    "    \n",
    "    visa_dict=spark.read.csv(visa_dict, header=False, mode=\"DROPMALFORMED\",sep=\"=\", schema=Schema_Visa)\n",
    "    immigrants = immigrants.join(visa_dict, immigrants.i94visa == visa_dict.id,how='right') \n",
    "    immigrants=immigrants.drop('id','i94visa')\n",
    "    \n",
    "    immigrants=immigrants.withColumn(\"arrdate\", udf_to_datetime_sas(\"arrdate\"))\n",
    "    \n",
    "    immigrants = immigrants.withColumn(\"cicid\", immigrants[\"cicid\"].cast(IntegerType()))\n",
    "    immigrants = immigrants.withColumn(\"i94yr\", immigrants[\"i94yr\"].cast(IntegerType()))\n",
    "    immigrants = immigrants.withColumn(\"biryear\", immigrants[\"biryear\"].cast(IntegerType()))\n",
    "    immigrants = immigrants.withColumn(\"i94mon\", immigrants[\"i94mon\"].cast(IntegerType()))\n",
    "    \n",
    "    immigrants.show(10) \n",
    "    immigrants.write.parquet(destination)\n",
    "   \n",
    "    \n",
    "immigration_etl()   "
   ]
  },
  {
   "cell_type": "code",
   "execution_count": null,
   "metadata": {},
   "outputs": [],
   "source": []
  }
 ],
 "metadata": {
  "kernelspec": {
   "display_name": "PySpark",
   "language": "",
   "name": "pysparkkernel"
  },
  "language_info": {
   "codemirror_mode": {
    "name": "python",
    "version": 2
   },
   "mimetype": "text/x-python",
   "name": "pyspark",
   "pygments_lexer": "python2"
  }
 },
 "nbformat": 4,
 "nbformat_minor": 4
}
